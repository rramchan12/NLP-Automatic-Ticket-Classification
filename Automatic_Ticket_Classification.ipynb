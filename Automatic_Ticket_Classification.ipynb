{
  "nbformat": 4,
  "nbformat_minor": 0,
  "metadata": {
    "kernelspec": {
      "display_name": "Python 3",
      "language": "python",
      "name": "python3"
    },
    "language_info": {
      "codemirror_mode": {
        "name": "ipython",
        "version": 3
      },
      "file_extension": ".py",
      "mimetype": "text/x-python",
      "name": "python",
      "nbconvert_exporter": "python",
      "pygments_lexer": "ipython3",
      "version": "3.7.6"
    },
    "colab": {
      "name": "Automatic_Ticket_Classification.ipynb",
      "provenance": [],
      "collapsed_sections": [
        "yYzD85nTJrGA",
        "piyLxzj6v07j",
        "280Vbqk-7a8M"
      ]
    },
    "accelerator": "TPU"
  },
  "cells": [
    {
      "cell_type": "markdown",
      "metadata": {
        "id": "rhR-ZUkwJrFn"
      },
      "source": [
        "## Problem Statement \n",
        "\n",
        "You need to build a model that is able to classify customer complaints based on the products/services. By doing so, you can segregate these tickets into their relevant categories and, therefore, help in the quick resolution of the issue.\n",
        "\n",
        "You will be doing topic modelling on the <b>.json</b> data provided by the company. Since this data is not labelled, you need to apply NMF to analyse patterns and classify tickets into the following five clusters based on their products/services:\n",
        "\n",
        "* Credit card / Prepaid card\n",
        "\n",
        "* Bank account services\n",
        "\n",
        "* Theft/Dispute reporting\n",
        "\n",
        "* Mortgages/loans\n",
        "\n",
        "* Others \n",
        "\n",
        "\n",
        "With the help of topic modelling, you will be able to map each ticket onto its respective department/category. You can then use this data to train any supervised model such as logistic regression, decision tree or random forest. Using this trained model, you can classify any new customer complaint support ticket into its relevant department."
      ]
    },
    {
      "cell_type": "markdown",
      "metadata": {
        "id": "mcgXVNyaLUFS"
      },
      "source": [
        "## Pipelines that needs to be performed:\n",
        "\n",
        "You need to perform the following eight major tasks to complete the assignment:\n",
        "\n",
        "1.  Data loading\n",
        "\n",
        "2. Text preprocessing\n",
        "\n",
        "3. Exploratory data analysis (EDA)\n",
        "\n",
        "4. Feature extraction\n",
        "\n",
        "5. Topic modelling \n",
        "\n",
        "6. Model building using supervised learning\n",
        "\n",
        "7. Model training and evaluation\n",
        "\n",
        "8. Model inference"
      ]
    },
    {
      "cell_type": "markdown",
      "metadata": {
        "id": "rCWKUUUI8L5n"
      },
      "source": [
        ""
      ]
    },
    {
      "cell_type": "markdown",
      "metadata": {
        "id": "JuLFIymAL58u"
      },
      "source": [
        "## Importing the necessary libraries"
      ]
    },
    {
      "cell_type": "code",
      "metadata": {
        "id": "O-Q9pqrcJrFr",
        "colab": {
          "base_uri": "https://localhost:8080/"
        },
        "outputId": "8d3ea785-d105-4212-dd24-52dccf3354d4"
      },
      "source": [
        "import json \n",
        "import numpy as np\n",
        "import pandas as pd\n",
        "import re, nltk, spacy, string\n",
        "import en_core_web_sm\n",
        "nlp = en_core_web_sm.load()\n",
        "import seaborn as sns\n",
        "import matplotlib.pyplot as plt\n",
        "%matplotlib inline\n",
        "\n",
        "from plotly.offline import plot\n",
        "import plotly.graph_objects as go\n",
        "import plotly.express as px\n",
        "\n",
        "from sklearn.feature_extraction.text import CountVectorizer, TfidfVectorizer\n",
        "from pprint import pprint\n",
        "import nltk\n",
        "nltk.download('stopwords')\n",
        "nltk.download('wordnet')\n",
        "nltk.download('punkt')\n",
        "from nltk.corpus import stopwords\n",
        "from nltk.tokenize import word_tokenize\n",
        "from nltk.stem import WordNetLemmatizer"
      ],
      "execution_count": 22,
      "outputs": [
        {
          "output_type": "stream",
          "name": "stdout",
          "text": [
            "[nltk_data] Downloading package stopwords to /root/nltk_data...\n",
            "[nltk_data]   Package stopwords is already up-to-date!\n",
            "[nltk_data] Downloading package wordnet to /root/nltk_data...\n",
            "[nltk_data]   Package wordnet is already up-to-date!\n",
            "[nltk_data] Downloading package punkt to /root/nltk_data...\n",
            "[nltk_data]   Package punkt is already up-to-date!\n"
          ]
        }
      ]
    },
    {
      "cell_type": "markdown",
      "metadata": {
        "id": "KtRLCsNVJrFt"
      },
      "source": [
        "## Loading the data\n",
        "\n",
        "The data is in JSON format and we need to convert it to a dataframe."
      ]
    },
    {
      "cell_type": "code",
      "metadata": {
        "colab": {
          "base_uri": "https://localhost:8080/"
        },
        "id": "rDCDBjQJPxEb",
        "outputId": "deedda71-e1ac-428b-dd22-47b51e0a4597"
      },
      "source": [
        "!gdown --id 1Y4Yzh1uTLIBLnJq1_QvoosFx9giiR1_K"
      ],
      "execution_count": 23,
      "outputs": [
        {
          "output_type": "stream",
          "name": "stdout",
          "text": [
            "Downloading...\n",
            "From: https://drive.google.com/uc?id=1Y4Yzh1uTLIBLnJq1_QvoosFx9giiR1_K\n",
            "To: /content/complaints-2021-05-14_08_16.json\n",
            "83.4MB [00:00, 116MB/s]\n"
          ]
        }
      ]
    },
    {
      "cell_type": "code",
      "metadata": {
        "id": "puVzIf_iJrFt"
      },
      "source": [
        "# Opening JSON file \n",
        "f = open('/content/complaints-2021-05-14_08_16.json')# Write the path to your data file and load it \n",
        "  \n",
        "# returns JSON object as  \n",
        "# a dictionary \n",
        "data = json.load(f)\n",
        "df=pd.json_normalize(data)\n"
      ],
      "execution_count": 24,
      "outputs": []
    },
    {
      "cell_type": "markdown",
      "metadata": {
        "id": "_xYpH-sAJrFu"
      },
      "source": [
        "## Data preparation"
      ]
    },
    {
      "cell_type": "code",
      "metadata": {
        "id": "Lf8ufHH5JrFu",
        "colab": {
          "base_uri": "https://localhost:8080/",
          "height": 889
        },
        "outputId": "ff3363b0-3d84-4def-fa61-3e5fafe02156"
      },
      "source": [
        "# Inspect the dataframe to understand the given data.\n",
        "df.head(10)\n"
      ],
      "execution_count": 25,
      "outputs": [
        {
          "output_type": "execute_result",
          "data": {
            "text/html": [
              "<div>\n",
              "<style scoped>\n",
              "    .dataframe tbody tr th:only-of-type {\n",
              "        vertical-align: middle;\n",
              "    }\n",
              "\n",
              "    .dataframe tbody tr th {\n",
              "        vertical-align: top;\n",
              "    }\n",
              "\n",
              "    .dataframe thead th {\n",
              "        text-align: right;\n",
              "    }\n",
              "</style>\n",
              "<table border=\"1\" class=\"dataframe\">\n",
              "  <thead>\n",
              "    <tr style=\"text-align: right;\">\n",
              "      <th></th>\n",
              "      <th>_index</th>\n",
              "      <th>_type</th>\n",
              "      <th>_id</th>\n",
              "      <th>_score</th>\n",
              "      <th>_source.tags</th>\n",
              "      <th>_source.zip_code</th>\n",
              "      <th>_source.complaint_id</th>\n",
              "      <th>_source.issue</th>\n",
              "      <th>_source.date_received</th>\n",
              "      <th>_source.state</th>\n",
              "      <th>_source.consumer_disputed</th>\n",
              "      <th>_source.product</th>\n",
              "      <th>_source.company_response</th>\n",
              "      <th>_source.company</th>\n",
              "      <th>_source.submitted_via</th>\n",
              "      <th>_source.date_sent_to_company</th>\n",
              "      <th>_source.company_public_response</th>\n",
              "      <th>_source.sub_product</th>\n",
              "      <th>_source.timely</th>\n",
              "      <th>_source.complaint_what_happened</th>\n",
              "      <th>_source.sub_issue</th>\n",
              "      <th>_source.consumer_consent_provided</th>\n",
              "    </tr>\n",
              "  </thead>\n",
              "  <tbody>\n",
              "    <tr>\n",
              "      <th>0</th>\n",
              "      <td>complaint-public-v2</td>\n",
              "      <td>complaint</td>\n",
              "      <td>3211475</td>\n",
              "      <td>0.0</td>\n",
              "      <td>None</td>\n",
              "      <td>90301</td>\n",
              "      <td>3211475</td>\n",
              "      <td>Attempts to collect debt not owed</td>\n",
              "      <td>2019-04-13T12:00:00-05:00</td>\n",
              "      <td>CA</td>\n",
              "      <td>N/A</td>\n",
              "      <td>Debt collection</td>\n",
              "      <td>Closed with explanation</td>\n",
              "      <td>JPMORGAN CHASE &amp; CO.</td>\n",
              "      <td>Web</td>\n",
              "      <td>2019-04-13T12:00:00-05:00</td>\n",
              "      <td>None</td>\n",
              "      <td>Credit card debt</td>\n",
              "      <td>Yes</td>\n",
              "      <td></td>\n",
              "      <td>Debt is not yours</td>\n",
              "      <td>Consent not provided</td>\n",
              "    </tr>\n",
              "    <tr>\n",
              "      <th>1</th>\n",
              "      <td>complaint-public-v2</td>\n",
              "      <td>complaint</td>\n",
              "      <td>3229299</td>\n",
              "      <td>0.0</td>\n",
              "      <td>Servicemember</td>\n",
              "      <td>319XX</td>\n",
              "      <td>3229299</td>\n",
              "      <td>Written notification about debt</td>\n",
              "      <td>2019-05-01T12:00:00-05:00</td>\n",
              "      <td>GA</td>\n",
              "      <td>N/A</td>\n",
              "      <td>Debt collection</td>\n",
              "      <td>Closed with explanation</td>\n",
              "      <td>JPMORGAN CHASE &amp; CO.</td>\n",
              "      <td>Web</td>\n",
              "      <td>2019-05-01T12:00:00-05:00</td>\n",
              "      <td>None</td>\n",
              "      <td>Credit card debt</td>\n",
              "      <td>Yes</td>\n",
              "      <td>Good morning my name is XXXX XXXX and I appreciate it if you could help me put a stop to Chase Bank cardmember services. \\nIn 2018 I wrote to Chase asking for debt verification and what they sent me a statement which is not acceptable. I am asking the bank to validate the debt. Instead I been receiving mail every month from them attempting to collect a debt. \\nI have a right to know this information as a consumer. \\n\\nChase account # XXXX XXXX XXXX XXXX Thanks in advance for your help.</td>\n",
              "      <td>Didn't receive enough information to verify debt</td>\n",
              "      <td>Consent provided</td>\n",
              "    </tr>\n",
              "    <tr>\n",
              "      <th>2</th>\n",
              "      <td>complaint-public-v2</td>\n",
              "      <td>complaint</td>\n",
              "      <td>3199379</td>\n",
              "      <td>0.0</td>\n",
              "      <td>None</td>\n",
              "      <td>77069</td>\n",
              "      <td>3199379</td>\n",
              "      <td>Other features, terms, or problems</td>\n",
              "      <td>2019-04-02T12:00:00-05:00</td>\n",
              "      <td>TX</td>\n",
              "      <td>N/A</td>\n",
              "      <td>Credit card or prepaid card</td>\n",
              "      <td>Closed with explanation</td>\n",
              "      <td>JPMORGAN CHASE &amp; CO.</td>\n",
              "      <td>Web</td>\n",
              "      <td>2019-04-02T12:00:00-05:00</td>\n",
              "      <td>None</td>\n",
              "      <td>General-purpose credit card or charge card</td>\n",
              "      <td>Yes</td>\n",
              "      <td>I upgraded my XXXX XXXX card in XX/XX/2018 and was told by the agent who did the upgrade my anniversary date would not change. It turned the agent was giving me the wrong information in order to upgrade the account. XXXX   changed my anniversary date from XX/XX/XXXX to XX/XX/XXXX without my consent! XXXX has the recording of the agent who was misled me.</td>\n",
              "      <td>Problem with rewards from credit card</td>\n",
              "      <td>Consent provided</td>\n",
              "    </tr>\n",
              "    <tr>\n",
              "      <th>3</th>\n",
              "      <td>complaint-public-v2</td>\n",
              "      <td>complaint</td>\n",
              "      <td>2673060</td>\n",
              "      <td>0.0</td>\n",
              "      <td>None</td>\n",
              "      <td>48066</td>\n",
              "      <td>2673060</td>\n",
              "      <td>Trouble during payment process</td>\n",
              "      <td>2017-09-13T12:00:00-05:00</td>\n",
              "      <td>MI</td>\n",
              "      <td>N/A</td>\n",
              "      <td>Mortgage</td>\n",
              "      <td>Closed with explanation</td>\n",
              "      <td>JPMORGAN CHASE &amp; CO.</td>\n",
              "      <td>Web</td>\n",
              "      <td>2017-09-14T12:00:00-05:00</td>\n",
              "      <td>None</td>\n",
              "      <td>Conventional home mortgage</td>\n",
              "      <td>Yes</td>\n",
              "      <td></td>\n",
              "      <td>None</td>\n",
              "      <td>Consent not provided</td>\n",
              "    </tr>\n",
              "    <tr>\n",
              "      <th>4</th>\n",
              "      <td>complaint-public-v2</td>\n",
              "      <td>complaint</td>\n",
              "      <td>3203545</td>\n",
              "      <td>0.0</td>\n",
              "      <td>None</td>\n",
              "      <td>10473</td>\n",
              "      <td>3203545</td>\n",
              "      <td>Fees or interest</td>\n",
              "      <td>2019-04-05T12:00:00-05:00</td>\n",
              "      <td>NY</td>\n",
              "      <td>N/A</td>\n",
              "      <td>Credit card or prepaid card</td>\n",
              "      <td>Closed with explanation</td>\n",
              "      <td>JPMORGAN CHASE &amp; CO.</td>\n",
              "      <td>Referral</td>\n",
              "      <td>2019-04-05T12:00:00-05:00</td>\n",
              "      <td>None</td>\n",
              "      <td>General-purpose credit card or charge card</td>\n",
              "      <td>Yes</td>\n",
              "      <td></td>\n",
              "      <td>Charged too much interest</td>\n",
              "      <td>N/A</td>\n",
              "    </tr>\n",
              "    <tr>\n",
              "      <th>5</th>\n",
              "      <td>complaint-public-v2</td>\n",
              "      <td>complaint</td>\n",
              "      <td>3275312</td>\n",
              "      <td>0.0</td>\n",
              "      <td>Older American</td>\n",
              "      <td>48227</td>\n",
              "      <td>3275312</td>\n",
              "      <td>Managing an account</td>\n",
              "      <td>2019-06-13T12:00:00-05:00</td>\n",
              "      <td>MI</td>\n",
              "      <td>N/A</td>\n",
              "      <td>Checking or savings account</td>\n",
              "      <td>Closed with monetary relief</td>\n",
              "      <td>JPMORGAN CHASE &amp; CO.</td>\n",
              "      <td>Referral</td>\n",
              "      <td>2019-06-14T12:00:00-05:00</td>\n",
              "      <td>None</td>\n",
              "      <td>Checking account</td>\n",
              "      <td>Yes</td>\n",
              "      <td></td>\n",
              "      <td>Problem using a debit or ATM card</td>\n",
              "      <td>N/A</td>\n",
              "    </tr>\n",
              "    <tr>\n",
              "      <th>6</th>\n",
              "      <td>complaint-public-v2</td>\n",
              "      <td>complaint</td>\n",
              "      <td>3238804</td>\n",
              "      <td>0.0</td>\n",
              "      <td>None</td>\n",
              "      <td>76262</td>\n",
              "      <td>3238804</td>\n",
              "      <td>Managing an account</td>\n",
              "      <td>2019-05-10T12:00:00-05:00</td>\n",
              "      <td>TX</td>\n",
              "      <td>N/A</td>\n",
              "      <td>Checking or savings account</td>\n",
              "      <td>Closed with monetary relief</td>\n",
              "      <td>JPMORGAN CHASE &amp; CO.</td>\n",
              "      <td>Phone</td>\n",
              "      <td>2019-05-10T12:00:00-05:00</td>\n",
              "      <td>None</td>\n",
              "      <td>Checking account</td>\n",
              "      <td>Yes</td>\n",
              "      <td></td>\n",
              "      <td>Problem using a debit or ATM card</td>\n",
              "      <td>N/A</td>\n",
              "    </tr>\n",
              "    <tr>\n",
              "      <th>7</th>\n",
              "      <td>complaint-public-v2</td>\n",
              "      <td>complaint</td>\n",
              "      <td>3249272</td>\n",
              "      <td>0.0</td>\n",
              "      <td>None</td>\n",
              "      <td>07753</td>\n",
              "      <td>3249272</td>\n",
              "      <td>Trouble during payment process</td>\n",
              "      <td>2019-05-15T12:00:00-05:00</td>\n",
              "      <td>NJ</td>\n",
              "      <td>N/A</td>\n",
              "      <td>Mortgage</td>\n",
              "      <td>Closed with explanation</td>\n",
              "      <td>JPMORGAN CHASE &amp; CO.</td>\n",
              "      <td>Referral</td>\n",
              "      <td>2019-05-21T12:00:00-05:00</td>\n",
              "      <td>None</td>\n",
              "      <td>Conventional home mortgage</td>\n",
              "      <td>Yes</td>\n",
              "      <td></td>\n",
              "      <td>None</td>\n",
              "      <td>N/A</td>\n",
              "    </tr>\n",
              "    <tr>\n",
              "      <th>8</th>\n",
              "      <td>complaint-public-v2</td>\n",
              "      <td>complaint</td>\n",
              "      <td>3351653</td>\n",
              "      <td>0.0</td>\n",
              "      <td>None</td>\n",
              "      <td>60621</td>\n",
              "      <td>3351653</td>\n",
              "      <td>Closing an account</td>\n",
              "      <td>2019-08-22T12:00:00-05:00</td>\n",
              "      <td>IL</td>\n",
              "      <td>N/A</td>\n",
              "      <td>Checking or savings account</td>\n",
              "      <td>Closed with explanation</td>\n",
              "      <td>JPMORGAN CHASE &amp; CO.</td>\n",
              "      <td>Referral</td>\n",
              "      <td>2019-08-23T12:00:00-05:00</td>\n",
              "      <td>None</td>\n",
              "      <td>Checking account</td>\n",
              "      <td>Yes</td>\n",
              "      <td></td>\n",
              "      <td>Company closed your account</td>\n",
              "      <td>N/A</td>\n",
              "    </tr>\n",
              "    <tr>\n",
              "      <th>9</th>\n",
              "      <td>complaint-public-v2</td>\n",
              "      <td>complaint</td>\n",
              "      <td>3273612</td>\n",
              "      <td>0.0</td>\n",
              "      <td>None</td>\n",
              "      <td>99354</td>\n",
              "      <td>3273612</td>\n",
              "      <td>Managing an account</td>\n",
              "      <td>2019-06-11T12:00:00-05:00</td>\n",
              "      <td>WA</td>\n",
              "      <td>N/A</td>\n",
              "      <td>Checking or savings account</td>\n",
              "      <td>Closed with monetary relief</td>\n",
              "      <td>JPMORGAN CHASE &amp; CO.</td>\n",
              "      <td>Referral</td>\n",
              "      <td>2019-06-17T12:00:00-05:00</td>\n",
              "      <td>None</td>\n",
              "      <td>Checking account</td>\n",
              "      <td>Yes</td>\n",
              "      <td></td>\n",
              "      <td>Cashing a check</td>\n",
              "      <td>N/A</td>\n",
              "    </tr>\n",
              "  </tbody>\n",
              "</table>\n",
              "</div>"
            ],
            "text/plain": [
              "                _index  ... _source.consumer_consent_provided\n",
              "0  complaint-public-v2  ...              Consent not provided\n",
              "1  complaint-public-v2  ...                  Consent provided\n",
              "2  complaint-public-v2  ...                  Consent provided\n",
              "3  complaint-public-v2  ...              Consent not provided\n",
              "4  complaint-public-v2  ...                               N/A\n",
              "5  complaint-public-v2  ...                               N/A\n",
              "6  complaint-public-v2  ...                               N/A\n",
              "7  complaint-public-v2  ...                               N/A\n",
              "8  complaint-public-v2  ...                               N/A\n",
              "9  complaint-public-v2  ...                               N/A\n",
              "\n",
              "[10 rows x 22 columns]"
            ]
          },
          "metadata": {},
          "execution_count": 25
        }
      ]
    },
    {
      "cell_type": "code",
      "metadata": {
        "id": "Dwcty-wmJrFw",
        "colab": {
          "base_uri": "https://localhost:8080/"
        },
        "outputId": "8195f5de-9650-4fdb-e9e8-4df45d6f5862"
      },
      "source": [
        "#print the column names\n",
        "df.columns"
      ],
      "execution_count": 26,
      "outputs": [
        {
          "output_type": "execute_result",
          "data": {
            "text/plain": [
              "Index(['_index', '_type', '_id', '_score', '_source.tags', '_source.zip_code',\n",
              "       '_source.complaint_id', '_source.issue', '_source.date_received',\n",
              "       '_source.state', '_source.consumer_disputed', '_source.product',\n",
              "       '_source.company_response', '_source.company', '_source.submitted_via',\n",
              "       '_source.date_sent_to_company', '_source.company_public_response',\n",
              "       '_source.sub_product', '_source.timely',\n",
              "       '_source.complaint_what_happened', '_source.sub_issue',\n",
              "       '_source.consumer_consent_provided'],\n",
              "      dtype='object')"
            ]
          },
          "metadata": {},
          "execution_count": 26
        }
      ]
    },
    {
      "cell_type": "code",
      "metadata": {
        "id": "FYCtKXD1JrFw",
        "colab": {
          "base_uri": "https://localhost:8080/",
          "height": 870
        },
        "outputId": "beb875f5-e0ac-410e-f3d8-d28c8820da1f"
      },
      "source": [
        "#Assign new column names\n",
        "#len (df.columns)\n",
        "\n",
        "#new_columns = {}\n",
        "#for name in df.columns:\n",
        "#  if (name.find('_source')!=-1):\n",
        "#    new_columns[name]= (name[name.find('_source.')+len('_source.')::])\n",
        "#  elif (name.find('_') != -1):\n",
        "#    new_columns[name]=(name.strip('_'))\n",
        "  \n",
        "\n",
        "df.rename(columns=lambda x: x.replace('_source.', ''), inplace=True)\n",
        "df.rename(columns=lambda x: x.strip('_'), inplace=True)\n",
        "#Extract the data\n",
        "#df.rename(columns = new_columns, inplace = True)\n",
        "df.head()"
      ],
      "execution_count": 27,
      "outputs": [
        {
          "output_type": "execute_result",
          "data": {
            "text/html": [
              "<div>\n",
              "<style scoped>\n",
              "    .dataframe tbody tr th:only-of-type {\n",
              "        vertical-align: middle;\n",
              "    }\n",
              "\n",
              "    .dataframe tbody tr th {\n",
              "        vertical-align: top;\n",
              "    }\n",
              "\n",
              "    .dataframe thead th {\n",
              "        text-align: right;\n",
              "    }\n",
              "</style>\n",
              "<table border=\"1\" class=\"dataframe\">\n",
              "  <thead>\n",
              "    <tr style=\"text-align: right;\">\n",
              "      <th></th>\n",
              "      <th>index</th>\n",
              "      <th>type</th>\n",
              "      <th>id</th>\n",
              "      <th>score</th>\n",
              "      <th>tags</th>\n",
              "      <th>zip_code</th>\n",
              "      <th>complaint_id</th>\n",
              "      <th>issue</th>\n",
              "      <th>date_received</th>\n",
              "      <th>state</th>\n",
              "      <th>consumer_disputed</th>\n",
              "      <th>product</th>\n",
              "      <th>company_response</th>\n",
              "      <th>company</th>\n",
              "      <th>submitted_via</th>\n",
              "      <th>date_sent_to_company</th>\n",
              "      <th>company_public_response</th>\n",
              "      <th>sub_product</th>\n",
              "      <th>timely</th>\n",
              "      <th>complaint_what_happened</th>\n",
              "      <th>sub_issue</th>\n",
              "      <th>consumer_consent_provided</th>\n",
              "    </tr>\n",
              "  </thead>\n",
              "  <tbody>\n",
              "    <tr>\n",
              "      <th>0</th>\n",
              "      <td>complaint-public-v2</td>\n",
              "      <td>complaint</td>\n",
              "      <td>3211475</td>\n",
              "      <td>0.0</td>\n",
              "      <td>None</td>\n",
              "      <td>90301</td>\n",
              "      <td>3211475</td>\n",
              "      <td>Attempts to collect debt not owed</td>\n",
              "      <td>2019-04-13T12:00:00-05:00</td>\n",
              "      <td>CA</td>\n",
              "      <td>N/A</td>\n",
              "      <td>Debt collection</td>\n",
              "      <td>Closed with explanation</td>\n",
              "      <td>JPMORGAN CHASE &amp; CO.</td>\n",
              "      <td>Web</td>\n",
              "      <td>2019-04-13T12:00:00-05:00</td>\n",
              "      <td>None</td>\n",
              "      <td>Credit card debt</td>\n",
              "      <td>Yes</td>\n",
              "      <td></td>\n",
              "      <td>Debt is not yours</td>\n",
              "      <td>Consent not provided</td>\n",
              "    </tr>\n",
              "    <tr>\n",
              "      <th>1</th>\n",
              "      <td>complaint-public-v2</td>\n",
              "      <td>complaint</td>\n",
              "      <td>3229299</td>\n",
              "      <td>0.0</td>\n",
              "      <td>Servicemember</td>\n",
              "      <td>319XX</td>\n",
              "      <td>3229299</td>\n",
              "      <td>Written notification about debt</td>\n",
              "      <td>2019-05-01T12:00:00-05:00</td>\n",
              "      <td>GA</td>\n",
              "      <td>N/A</td>\n",
              "      <td>Debt collection</td>\n",
              "      <td>Closed with explanation</td>\n",
              "      <td>JPMORGAN CHASE &amp; CO.</td>\n",
              "      <td>Web</td>\n",
              "      <td>2019-05-01T12:00:00-05:00</td>\n",
              "      <td>None</td>\n",
              "      <td>Credit card debt</td>\n",
              "      <td>Yes</td>\n",
              "      <td>Good morning my name is XXXX XXXX and I appreciate it if you could help me put a stop to Chase Bank cardmember services. \\nIn 2018 I wrote to Chase asking for debt verification and what they sent me a statement which is not acceptable. I am asking the bank to validate the debt. Instead I been receiving mail every month from them attempting to collect a debt. \\nI have a right to know this information as a consumer. \\n\\nChase account # XXXX XXXX XXXX XXXX Thanks in advance for your help.</td>\n",
              "      <td>Didn't receive enough information to verify debt</td>\n",
              "      <td>Consent provided</td>\n",
              "    </tr>\n",
              "    <tr>\n",
              "      <th>2</th>\n",
              "      <td>complaint-public-v2</td>\n",
              "      <td>complaint</td>\n",
              "      <td>3199379</td>\n",
              "      <td>0.0</td>\n",
              "      <td>None</td>\n",
              "      <td>77069</td>\n",
              "      <td>3199379</td>\n",
              "      <td>Other features, terms, or problems</td>\n",
              "      <td>2019-04-02T12:00:00-05:00</td>\n",
              "      <td>TX</td>\n",
              "      <td>N/A</td>\n",
              "      <td>Credit card or prepaid card</td>\n",
              "      <td>Closed with explanation</td>\n",
              "      <td>JPMORGAN CHASE &amp; CO.</td>\n",
              "      <td>Web</td>\n",
              "      <td>2019-04-02T12:00:00-05:00</td>\n",
              "      <td>None</td>\n",
              "      <td>General-purpose credit card or charge card</td>\n",
              "      <td>Yes</td>\n",
              "      <td>I upgraded my XXXX XXXX card in XX/XX/2018 and was told by the agent who did the upgrade my anniversary date would not change. It turned the agent was giving me the wrong information in order to upgrade the account. XXXX   changed my anniversary date from XX/XX/XXXX to XX/XX/XXXX without my consent! XXXX has the recording of the agent who was misled me.</td>\n",
              "      <td>Problem with rewards from credit card</td>\n",
              "      <td>Consent provided</td>\n",
              "    </tr>\n",
              "    <tr>\n",
              "      <th>3</th>\n",
              "      <td>complaint-public-v2</td>\n",
              "      <td>complaint</td>\n",
              "      <td>2673060</td>\n",
              "      <td>0.0</td>\n",
              "      <td>None</td>\n",
              "      <td>48066</td>\n",
              "      <td>2673060</td>\n",
              "      <td>Trouble during payment process</td>\n",
              "      <td>2017-09-13T12:00:00-05:00</td>\n",
              "      <td>MI</td>\n",
              "      <td>N/A</td>\n",
              "      <td>Mortgage</td>\n",
              "      <td>Closed with explanation</td>\n",
              "      <td>JPMORGAN CHASE &amp; CO.</td>\n",
              "      <td>Web</td>\n",
              "      <td>2017-09-14T12:00:00-05:00</td>\n",
              "      <td>None</td>\n",
              "      <td>Conventional home mortgage</td>\n",
              "      <td>Yes</td>\n",
              "      <td></td>\n",
              "      <td>None</td>\n",
              "      <td>Consent not provided</td>\n",
              "    </tr>\n",
              "    <tr>\n",
              "      <th>4</th>\n",
              "      <td>complaint-public-v2</td>\n",
              "      <td>complaint</td>\n",
              "      <td>3203545</td>\n",
              "      <td>0.0</td>\n",
              "      <td>None</td>\n",
              "      <td>10473</td>\n",
              "      <td>3203545</td>\n",
              "      <td>Fees or interest</td>\n",
              "      <td>2019-04-05T12:00:00-05:00</td>\n",
              "      <td>NY</td>\n",
              "      <td>N/A</td>\n",
              "      <td>Credit card or prepaid card</td>\n",
              "      <td>Closed with explanation</td>\n",
              "      <td>JPMORGAN CHASE &amp; CO.</td>\n",
              "      <td>Referral</td>\n",
              "      <td>2019-04-05T12:00:00-05:00</td>\n",
              "      <td>None</td>\n",
              "      <td>General-purpose credit card or charge card</td>\n",
              "      <td>Yes</td>\n",
              "      <td></td>\n",
              "      <td>Charged too much interest</td>\n",
              "      <td>N/A</td>\n",
              "    </tr>\n",
              "  </tbody>\n",
              "</table>\n",
              "</div>"
            ],
            "text/plain": [
              "                 index  ... consumer_consent_provided\n",
              "0  complaint-public-v2  ...      Consent not provided\n",
              "1  complaint-public-v2  ...          Consent provided\n",
              "2  complaint-public-v2  ...          Consent provided\n",
              "3  complaint-public-v2  ...      Consent not provided\n",
              "4  complaint-public-v2  ...                       N/A\n",
              "\n",
              "[5 rows x 22 columns]"
            ]
          },
          "metadata": {},
          "execution_count": 27
        }
      ]
    },
    {
      "cell_type": "code",
      "metadata": {
        "colab": {
          "base_uri": "https://localhost:8080/"
        },
        "id": "Q6WXMJRWqeit",
        "outputId": "4ed7c0c6-2bde-483e-e728-d4dfbf20514c"
      },
      "source": [
        "##Create a Copy for Exploratory Data Analysis\n",
        "\n",
        "df_eda = df.copy(deep=True)\n",
        "df_eda.info()"
      ],
      "execution_count": 28,
      "outputs": [
        {
          "output_type": "stream",
          "name": "stdout",
          "text": [
            "<class 'pandas.core.frame.DataFrame'>\n",
            "RangeIndex: 78313 entries, 0 to 78312\n",
            "Data columns (total 22 columns):\n",
            " #   Column                     Non-Null Count  Dtype  \n",
            "---  ------                     --------------  -----  \n",
            " 0   index                      78313 non-null  object \n",
            " 1   type                       78313 non-null  object \n",
            " 2   id                         78313 non-null  object \n",
            " 3   score                      78313 non-null  float64\n",
            " 4   tags                       10900 non-null  object \n",
            " 5   zip_code                   71556 non-null  object \n",
            " 6   complaint_id               78313 non-null  object \n",
            " 7   issue                      78313 non-null  object \n",
            " 8   date_received              78313 non-null  object \n",
            " 9   state                      76322 non-null  object \n",
            " 10  consumer_disputed          78313 non-null  object \n",
            " 11  product                    78313 non-null  object \n",
            " 12  company_response           78313 non-null  object \n",
            " 13  company                    78313 non-null  object \n",
            " 14  submitted_via              78313 non-null  object \n",
            " 15  date_sent_to_company       78313 non-null  object \n",
            " 16  company_public_response    4 non-null      object \n",
            " 17  sub_product                67742 non-null  object \n",
            " 18  timely                     78313 non-null  object \n",
            " 19  complaint_what_happened    78313 non-null  object \n",
            " 20  sub_issue                  32016 non-null  object \n",
            " 21  consumer_consent_provided  77305 non-null  object \n",
            "dtypes: float64(1), object(21)\n",
            "memory usage: 13.1+ MB\n"
          ]
        }
      ]
    },
    {
      "cell_type": "code",
      "metadata": {
        "id": "grQUPFL5JrFx",
        "colab": {
          "base_uri": "https://localhost:8080/"
        },
        "outputId": "462a5690-fac5-4430-a3e5-2a3237fe862e"
      },
      "source": [
        "#Assign nan in place of blanks in the complaints column\n",
        "\n",
        " \n",
        "df_eda['complaint_what_happened'] = np.where(df_eda['complaint_what_happened'] =='', np.nan, df_eda['complaint_what_happened'])\n",
        "df_eda['complaint_what_happened']"
      ],
      "execution_count": 29,
      "outputs": [
        {
          "output_type": "execute_result",
          "data": {
            "text/plain": [
              "0                                                                                                                                                                                                                                                                                                                                                                                                                                                                                                                                                                                                                                                                                                                                                                                                                                                                                                                                                                                                                                                                                                                                                                                                                                                                                                                                                                                                                                                                                                                                                                                                                                                                                                                                                                                                                                                                                                                                                                                                                                                                                                                                                                                                                                                                                                                                                                                                                    NaN\n",
              "1                                                                                                                                                                                                                                                                                                                                                                                                                                                                                                                                                                                                                                                                                                                                                                                                                                                                                                                                                                                                                                                                                                                                                                                                                                                                                                                                                                                                                                                                                                                                                                                                                                                                                                                                                                                                                                                                                                             Good morning my name is XXXX XXXX and I appreciate it if you could help me put a stop to Chase Bank cardmember services. \\nIn 2018 I wrote to Chase asking for debt verification and what they sent me a statement which is not acceptable. I am asking the bank to validate the debt. Instead I been receiving mail every month from them attempting to collect a debt. \\nI have a right to know this information as a consumer. \\n\\nChase account # XXXX XXXX XXXX XXXX Thanks in advance for your help.\n",
              "2                                                                                                                                                                                                                                                                                                                                                                                                                                                                                                                                                                                                                                                                                                                                                                                                                                                                                                                                                                                                                                                                                                                                                                                                                                                                                                                                                                                                                                                                                                                                                                                                                                                                                                                                                                                                                                                                                                                                                                                                                                                    I upgraded my XXXX XXXX card in XX/XX/2018 and was told by the agent who did the upgrade my anniversary date would not change. It turned the agent was giving me the wrong information in order to upgrade the account. XXXX   changed my anniversary date from XX/XX/XXXX to XX/XX/XXXX without my consent! XXXX has the recording of the agent who was misled me.\n",
              "3                                                                                                                                                                                                                                                                                                                                                                                                                                                                                                                                                                                                                                                                                                                                                                                                                                                                                                                                                                                                                                                                                                                                                                                                                                                                                                                                                                                                                                                                                                                                                                                                                                                                                                                                                                                                                                                                                                                                                                                                                                                                                                                                                                                                                                                                                                                                                                                                                    NaN\n",
              "4                                                                                                                                                                                                                                                                                                                                                                                                                                                                                                                                                                                                                                                                                                                                                                                                                                                                                                                                                                                                                                                                                                                                                                                                                                                                                                                                                                                                                                                                                                                                                                                                                                                                                                                                                                                                                                                                                                                                                                                                                                                                                                                                                                                                                                                                                                                                                                                                                    NaN\n",
              "                                                                                                                                                                                                                                                                                                                                                                                                                                                                                                                                                                                                                                                                                                                                                                                                                                                                                                                                                                                                                                                                                                                                                                                                              ...                                                                                                                                                                                                                                                                                                                                                                                                                                                                                                                                                                                                                                                                                                                                                                                                                                                                                                                                                                                                                                                                                                                                                                                                       \n",
              "78308                                                                                                                                                                                                                                                                                                                                                                                                                                                                                                                                                                                                                                                                                                                                                                                                                                                                                                                                                                                                                                                                                                                                                                                                                                                                                                                                                                                                                                                                                                                                                                                                                                                                                                                                                                                                                                                                                                                                                                                                                                                                                                                                                                                                                                                                                                                                                                                                                NaN\n",
              "78309                                                                                                                                                                                                                 On Wednesday, XX/XX/XXXX I called Chas, my XXXX XXXX Visa Credit Card provider, and asked how to make a claim under their purchase protection benefit. On XX/XX/XXXX, I purchased three high school textbooks for my XXXX year old daughter because she transferred to a new school. All three books were damaged when a water bottle in her backpack broke. The Chase representative assured me the textbooks would be covered and instructed me to file a claim at XXXX. I immediately went to the website and filed the claim, including uploading all of the requested paperwork which included a copy of my credit card statement, copies of the three receipts and photographic evidence of the damage. The website even had \" books '' as one of the catagories I could list as the type of item they cover and that I could make a claim on. After following up repeatedly on my claim since the insurance provider failed to \" review my information and contact me within 5 business days to outline the next steps of the process, '' as outlined in an email I received acknowledging my claim submission, I called to complain. The representative said claims are not looked at by an examiner \" for eight to ten days '' and then it would take \" two days to actually review the claim. '' I responded that this information was contradictory to the information provided in writing in the email XXXX sent to me, and she said that she is not an adjuster and that is how it works. I then asked to speak with an adjuster and she agreed to connect me to one. I was then put on hold and when she returned, she said my file had \" just been updated while I was on hold and that the claim was being denied because textbooks have finite lives and are undergo revision after courses end. '' I explained that my daughter 's course had not ended and that I was told specifically by Chase that my textbook purchases would be covered and was again told they were refusing my claim. '' By the time the call ended I received an email stating that my claim status had been updated and was being denied. I find this completely outrageous and borderline fraudulent.\n",
              "78310    I am not familiar with XXXX pay and did not understand the great risk this provides to consumers. I believed this to be safe as it was through my Chase bank app. I have been with Chase for almost 20 years and trust their mobile banking and now am sadly regretful. I am being told to deal with the merchant except the merchant has refused to answer my inquiries and now shut down communication. The website of the said merchant looks entirely legitamite and is even using the faces of highly successful brands with individuals linked to their social media without their consent. In performing research of the phone number and other associated information available through PI it is very clear this merchant is continually creating new account title holders to perpetuate this cycle of fraud. Furthermore as this is a non fixed voip being used I believe they are fraudulently using the identity of the real XXXX XXXX Chase Bank told me they wouldnt even investigate, report this to XXXX or allow me to file a report or take any potential recourse for the matter. There isnt even a protocol in place to address this issue yet! The chase mobile app verbiage makes a point to deceptively position this app as under the branch of Chase banking service and as such, imply a degree of entitlement to its customer service protection protocols. Chase has your back which reads on the very same link as the XXXX tab ... .is most certainly not true. This places consumers at risk when using this mobile service and does not flag the concern of Chase in the slightest. At minimum the risk of using XXXX on your mobile banking app must realistically be made aware to the public as it stands to be potentially devastating I have plans to file reports with all corresponding authorities as well as notify and contact the individual whose identity is being misused to inform him. I also intend to urge My neighbor who works in television that the news network should perhaps present the risk of using XXXX and XXXX integrated banking apps to the public. I understand fraud and scamming are overwhelming rampant but a banking mogul such as Chase not having any recourse of action is simply a risk that needs to Be disclosed more throughly. I would not have clicked on the to link to the extent I did if I would have been better informed.\n",
              "78311                                                                                                                                                        I have had flawless credit for 30 yrs. I've had Chase credit cards, \" Chase Freedom '' specifically since XXXX with no problems ever. I've done many balance transfers in my life, so I have plenty of experience. I recently did a balance transfer with Chase Freedom for {$9000.00} ( did many with other Chase cards, but apparently not \" Freeedom '' ) When I got my first bill, my minimum payment was {$470.00}. I was SHOCKED. I immediately called on XX/XX/XXXX. The representative told me that the min payment was so high bc they were making me pay the \" Balance transfer fee '' up front, but my future payments would be around {$90.00}, 1 % of total balance ( which is standard, AND the rate THEY ADVERTISE ) I went to pay the next payment on XX/XX/XXXX & was once again SHOCKED to see my minimum payment was {$440.00}. I paid it, but I have been trying to work this out with Chase ever since. Apparently, the representative was WRONG & I am actually expected to pay 5 %, instead of the standard 1 % they normally charge, bc that was written in my \" user agreement '' paperwork back in XX/XX/XXXX!! 28 years ago!!! They currently charge 1 % to everyone else in the world. My other cards, including Chase, are all 1 %. This {$440.00} is an unreasonable amt to expect someone to pay for 1 credit card. I have kids & many other bills to pay. They never warned me they were so \" off the charts '' with their minimum payment percentage, ( except for my original paperwork in XX/XX/XXXX ). They offer everyone else 1 % terms. They change THEIR \" terms '' anytime it benefits THEM, but won't budge to lower it to make this payment more affordable & reasonable. So, I also asked them ( as soon as I found this out ) to refund my {$360.00} transfer fee so I could use it to transfer the balance to a different card with a more reasonable minimum payment. They refused. I also asked if they would transfer to my CHASE SLATE card, which has 1 % min pmt, they also refused. They will not work with me at all. I am a responsible working person. I would like to preserve my good credit. I could easily transfer again to a different card, but I'd have to pay another lump sum of $ again.\n",
              "78312                                                                                                                                                                                                                                                                                                                                                                                                                                                                                                                                                                                                                                                                                                                                                                                                                                                                                                                                                                                                                                                                                                                                                                                                                                                                                                                                                                                                                                                                                                                                                                                         Roughly 10+ years ago I closed out my accounts with JP Morgan Chase Bank XXXX in order to close out an unsecured line of credit I had to pay it off. I did that to close out my account roughly {$500.00} payment when I closed out the accounts, and now I get this late payment that showed up on my credit report after 10+ years stating I owe close to {$900.00} dollars. I have never had any payment schedules or notifications in the 10+ years because I paid it off. Upon calling them I am told I need to show proof I paid it off. I would like to think that if indeed I had not paid it off ( which I did ) I would have immediately received late payment notifications. I left Chase bank because of some poor customer service and charges that were way out of line with the other banking institutions.\n",
              "Name: complaint_what_happened, Length: 78313, dtype: object"
            ]
          },
          "metadata": {},
          "execution_count": 29
        }
      ]
    },
    {
      "cell_type": "code",
      "metadata": {
        "colab": {
          "base_uri": "https://localhost:8080/"
        },
        "id": "mRNIF2QRZYWY",
        "outputId": "4de01f59-75ca-4975-c9ea-88b359071da9"
      },
      "source": [
        "df_eda['complaint_what_happened'].isna().sum()"
      ],
      "execution_count": 30,
      "outputs": [
        {
          "output_type": "execute_result",
          "data": {
            "text/plain": [
              "57241"
            ]
          },
          "metadata": {},
          "execution_count": 30
        }
      ]
    },
    {
      "cell_type": "code",
      "metadata": {
        "id": "Jfxd8VSmJrFy",
        "colab": {
          "base_uri": "https://localhost:8080/"
        },
        "outputId": "6dccfe53-d8c3-4b8a-9015-3770412b10fc"
      },
      "source": [
        "#Remove all rows where complaints column is nan\n",
        "df_eda= df_eda[~df_eda.complaint_what_happened.isna()]\n",
        "df_eda.info()"
      ],
      "execution_count": 31,
      "outputs": [
        {
          "output_type": "stream",
          "name": "stdout",
          "text": [
            "<class 'pandas.core.frame.DataFrame'>\n",
            "Int64Index: 21072 entries, 1 to 78312\n",
            "Data columns (total 22 columns):\n",
            " #   Column                     Non-Null Count  Dtype  \n",
            "---  ------                     --------------  -----  \n",
            " 0   index                      21072 non-null  object \n",
            " 1   type                       21072 non-null  object \n",
            " 2   id                         21072 non-null  object \n",
            " 3   score                      21072 non-null  float64\n",
            " 4   tags                       3816 non-null   object \n",
            " 5   zip_code                   16427 non-null  object \n",
            " 6   complaint_id               21072 non-null  object \n",
            " 7   issue                      21072 non-null  object \n",
            " 8   date_received              21072 non-null  object \n",
            " 9   state                      20929 non-null  object \n",
            " 10  consumer_disputed          21072 non-null  object \n",
            " 11  product                    21072 non-null  object \n",
            " 12  company_response           21072 non-null  object \n",
            " 13  company                    21072 non-null  object \n",
            " 14  submitted_via              21072 non-null  object \n",
            " 15  date_sent_to_company       21072 non-null  object \n",
            " 16  company_public_response    2 non-null      object \n",
            " 17  sub_product                18963 non-null  object \n",
            " 18  timely                     21072 non-null  object \n",
            " 19  complaint_what_happened    21072 non-null  object \n",
            " 20  sub_issue                  12896 non-null  object \n",
            " 21  consumer_consent_provided  21072 non-null  object \n",
            "dtypes: float64(1), object(21)\n",
            "memory usage: 3.7+ MB\n"
          ]
        }
      ]
    },
    {
      "cell_type": "markdown",
      "metadata": {
        "id": "L944HZpsJrFy"
      },
      "source": [
        "## Prepare the text for topic modeling\n",
        "\n",
        "Once you have removed all the blank complaints, you need to:\n",
        "\n",
        "* Make the text lowercase\n",
        "* Remove text in square brackets\n",
        "* Remove punctuation\n",
        "* Remove words containing numbers\n",
        "\n",
        "\n",
        "Once you have done these cleaning operations you need to perform the following:\n",
        "* Lemmatize the texts\n",
        "* Use POS tags to get relevant words from the texts.\n"
      ]
    },
    {
      "cell_type": "code",
      "metadata": {
        "id": "qm7SjjSkJrFz"
      },
      "source": [
        "# Write your function here to clean the text and remove all the unnecessary elements.\n",
        "def clean_text(text):\n",
        "   text = text.lower()\n",
        "   text = re.sub(\"\\[\\s*\\w*\\s*\\]\", \"\", text)\n",
        "   text = text.translate(str.maketrans('', '', string.punctuation))\n",
        "   text = re.sub(\"\\S*\\d\\S*\", \"\", text)\n",
        "\n",
        "   return text\n",
        "\n",
        "df_eda.complaint_what_happened = pd.DataFrame(df_eda.complaint_what_happened.apply(lambda x: clean_text(x)))   "
      ],
      "execution_count": 32,
      "outputs": []
    },
    {
      "cell_type": "code",
      "metadata": {
        "colab": {
          "base_uri": "https://localhost:8080/",
          "height": 1000
        },
        "id": "rwU5M8hJw8hG",
        "outputId": "02425b00-87f1-4756-9604-c96058b25d26"
      },
      "source": [
        "pd.set_option('display.max_colwidth', None)\n",
        "df_eda.head()"
      ],
      "execution_count": 33,
      "outputs": [
        {
          "output_type": "execute_result",
          "data": {
            "text/html": [
              "<div>\n",
              "<style scoped>\n",
              "    .dataframe tbody tr th:only-of-type {\n",
              "        vertical-align: middle;\n",
              "    }\n",
              "\n",
              "    .dataframe tbody tr th {\n",
              "        vertical-align: top;\n",
              "    }\n",
              "\n",
              "    .dataframe thead th {\n",
              "        text-align: right;\n",
              "    }\n",
              "</style>\n",
              "<table border=\"1\" class=\"dataframe\">\n",
              "  <thead>\n",
              "    <tr style=\"text-align: right;\">\n",
              "      <th></th>\n",
              "      <th>index</th>\n",
              "      <th>type</th>\n",
              "      <th>id</th>\n",
              "      <th>score</th>\n",
              "      <th>tags</th>\n",
              "      <th>zip_code</th>\n",
              "      <th>complaint_id</th>\n",
              "      <th>issue</th>\n",
              "      <th>date_received</th>\n",
              "      <th>state</th>\n",
              "      <th>consumer_disputed</th>\n",
              "      <th>product</th>\n",
              "      <th>company_response</th>\n",
              "      <th>company</th>\n",
              "      <th>submitted_via</th>\n",
              "      <th>date_sent_to_company</th>\n",
              "      <th>company_public_response</th>\n",
              "      <th>sub_product</th>\n",
              "      <th>timely</th>\n",
              "      <th>complaint_what_happened</th>\n",
              "      <th>sub_issue</th>\n",
              "      <th>consumer_consent_provided</th>\n",
              "    </tr>\n",
              "  </thead>\n",
              "  <tbody>\n",
              "    <tr>\n",
              "      <th>1</th>\n",
              "      <td>complaint-public-v2</td>\n",
              "      <td>complaint</td>\n",
              "      <td>3229299</td>\n",
              "      <td>0.0</td>\n",
              "      <td>Servicemember</td>\n",
              "      <td>319XX</td>\n",
              "      <td>3229299</td>\n",
              "      <td>Written notification about debt</td>\n",
              "      <td>2019-05-01T12:00:00-05:00</td>\n",
              "      <td>GA</td>\n",
              "      <td>N/A</td>\n",
              "      <td>Debt collection</td>\n",
              "      <td>Closed with explanation</td>\n",
              "      <td>JPMORGAN CHASE &amp; CO.</td>\n",
              "      <td>Web</td>\n",
              "      <td>2019-05-01T12:00:00-05:00</td>\n",
              "      <td>None</td>\n",
              "      <td>Credit card debt</td>\n",
              "      <td>Yes</td>\n",
              "      <td>good morning my name is xxxx xxxx and i appreciate it if you could help me put a stop to chase bank cardmember services \\nin  i wrote to chase asking for debt verification and what they sent me a statement which is not acceptable i am asking the bank to validate the debt instead i been receiving mail every month from them attempting to collect a debt \\ni have a right to know this information as a consumer \\n\\nchase account  xxxx xxxx xxxx xxxx thanks in advance for your help</td>\n",
              "      <td>Didn't receive enough information to verify debt</td>\n",
              "      <td>Consent provided</td>\n",
              "    </tr>\n",
              "    <tr>\n",
              "      <th>2</th>\n",
              "      <td>complaint-public-v2</td>\n",
              "      <td>complaint</td>\n",
              "      <td>3199379</td>\n",
              "      <td>0.0</td>\n",
              "      <td>None</td>\n",
              "      <td>77069</td>\n",
              "      <td>3199379</td>\n",
              "      <td>Other features, terms, or problems</td>\n",
              "      <td>2019-04-02T12:00:00-05:00</td>\n",
              "      <td>TX</td>\n",
              "      <td>N/A</td>\n",
              "      <td>Credit card or prepaid card</td>\n",
              "      <td>Closed with explanation</td>\n",
              "      <td>JPMORGAN CHASE &amp; CO.</td>\n",
              "      <td>Web</td>\n",
              "      <td>2019-04-02T12:00:00-05:00</td>\n",
              "      <td>None</td>\n",
              "      <td>General-purpose credit card or charge card</td>\n",
              "      <td>Yes</td>\n",
              "      <td>i upgraded my xxxx xxxx card in  and was told by the agent who did the upgrade my anniversary date would not change it turned the agent was giving me the wrong information in order to upgrade the account xxxx   changed my anniversary date from xxxxxxxx to xxxxxxxx without my consent xxxx has the recording of the agent who was misled me</td>\n",
              "      <td>Problem with rewards from credit card</td>\n",
              "      <td>Consent provided</td>\n",
              "    </tr>\n",
              "    <tr>\n",
              "      <th>10</th>\n",
              "      <td>complaint-public-v2</td>\n",
              "      <td>complaint</td>\n",
              "      <td>3233499</td>\n",
              "      <td>0.0</td>\n",
              "      <td>None</td>\n",
              "      <td>104XX</td>\n",
              "      <td>3233499</td>\n",
              "      <td>Incorrect information on your report</td>\n",
              "      <td>2019-05-06T12:00:00-05:00</td>\n",
              "      <td>NY</td>\n",
              "      <td>N/A</td>\n",
              "      <td>Credit reporting, credit repair services, or other personal consumer reports</td>\n",
              "      <td>Closed with explanation</td>\n",
              "      <td>JPMORGAN CHASE &amp; CO.</td>\n",
              "      <td>Web</td>\n",
              "      <td>2019-05-06T12:00:00-05:00</td>\n",
              "      <td>None</td>\n",
              "      <td>Other personal consumer report</td>\n",
              "      <td>Yes</td>\n",
              "      <td>chase card was reported on  however fraudulent application have been submitted my identity without my consent to fraudulently obtain services do not extend credit without verifying the identity of the applicant</td>\n",
              "      <td>Information belongs to someone else</td>\n",
              "      <td>Consent provided</td>\n",
              "    </tr>\n",
              "    <tr>\n",
              "      <th>11</th>\n",
              "      <td>complaint-public-v2</td>\n",
              "      <td>complaint</td>\n",
              "      <td>3180294</td>\n",
              "      <td>0.0</td>\n",
              "      <td>None</td>\n",
              "      <td>750XX</td>\n",
              "      <td>3180294</td>\n",
              "      <td>Incorrect information on your report</td>\n",
              "      <td>2019-03-14T12:00:00-05:00</td>\n",
              "      <td>TX</td>\n",
              "      <td>N/A</td>\n",
              "      <td>Credit reporting, credit repair services, or other personal consumer reports</td>\n",
              "      <td>Closed with explanation</td>\n",
              "      <td>JPMORGAN CHASE &amp; CO.</td>\n",
              "      <td>Web</td>\n",
              "      <td>2019-03-15T12:00:00-05:00</td>\n",
              "      <td>None</td>\n",
              "      <td>Credit reporting</td>\n",
              "      <td>Yes</td>\n",
              "      <td>on  while trying to book a xxxx  xxxx  ticket i came across an offer for  to be applied towards the ticket if i applied for a rewards card i put in my information for the offer and within less than a minute was notified via the screen that a decision could not be made i immediately contacted xxxx and was referred to chase bank i then immediately contacted chase bank within no more than  of getting the notification on the screen and i was told by the chase representative i spoke with that my application was denied but she could not state why i asked for more information about the xxxx  offer and she explained that even if i had been approved the credit offer only gets applied after the first account statement and could not be used to purchase the ticket i then explicitly told her i was glad i got denied and i was absolutely no longer interested in the account i asked that the application be withdrawn and the representative obliged this all happened no later than  after putting in the application on  notwithstanding my explicit request not to proceed with the application and contrary to what i was told by the chase representative chase did in fact go ahead to open a credit account in my name on  this is now being reported in my credit report and chase has refused to correct this information on my credit report even though they went ahead to process an application which i did not consent to and out of their error</td>\n",
              "      <td>Information belongs to someone else</td>\n",
              "      <td>Consent provided</td>\n",
              "    </tr>\n",
              "    <tr>\n",
              "      <th>14</th>\n",
              "      <td>complaint-public-v2</td>\n",
              "      <td>complaint</td>\n",
              "      <td>3224980</td>\n",
              "      <td>0.0</td>\n",
              "      <td>None</td>\n",
              "      <td>920XX</td>\n",
              "      <td>3224980</td>\n",
              "      <td>Managing an account</td>\n",
              "      <td>2019-04-27T12:00:00-05:00</td>\n",
              "      <td>CA</td>\n",
              "      <td>N/A</td>\n",
              "      <td>Checking or savings account</td>\n",
              "      <td>Closed with explanation</td>\n",
              "      <td>JPMORGAN CHASE &amp; CO.</td>\n",
              "      <td>Web</td>\n",
              "      <td>2019-04-27T12:00:00-05:00</td>\n",
              "      <td>None</td>\n",
              "      <td>Checking account</td>\n",
              "      <td>Yes</td>\n",
              "      <td>my grand son give me check for  i deposit it into my chase account after fund clear my chase bank closed my account never paid me my money they said they need to speek with my grand son check was clear money was taking by my chase bank refuse to pay me my money my grand son called chase  times they told him i should call not him to verify the check owner he is out the country most the time  date happen  check number xxxx claim number is xxxx with chase</td>\n",
              "      <td>Funds not handled or disbursed as instructed</td>\n",
              "      <td>Consent provided</td>\n",
              "    </tr>\n",
              "  </tbody>\n",
              "</table>\n",
              "</div>"
            ],
            "text/plain": [
              "                  index  ... consumer_consent_provided\n",
              "1   complaint-public-v2  ...          Consent provided\n",
              "2   complaint-public-v2  ...          Consent provided\n",
              "10  complaint-public-v2  ...          Consent provided\n",
              "11  complaint-public-v2  ...          Consent provided\n",
              "14  complaint-public-v2  ...          Consent provided\n",
              "\n",
              "[5 rows x 22 columns]"
            ]
          },
          "metadata": {},
          "execution_count": 33
        }
      ]
    },
    {
      "cell_type": "code",
      "metadata": {
        "id": "zgOu8t8HJrFz"
      },
      "source": [
        "#Write your function to Lemmatize the texts\n",
        "wordnet_lemmatizer = WordNetLemmatizer()\n",
        "def lemmatizer(document):\n",
        "    'changes document by removing stopwords and generates Lemma'\n",
        "\n",
        "    # tokenize into words\n",
        "    words = word_tokenize(document)\n",
        "\n",
        "    # remove stop words and lemmatize\n",
        "    words = [wordnet_lemmatizer.lemmatize(word) for word in words if word not in stopwords.words(\"english\")]\n",
        "\n",
        "    # join words to make sentence\n",
        "    document = \" \".join(words)\n",
        "    \n",
        "    return document\n",
        "\n",
        "df_eda['Complaints_Lemma'] =  df_eda.complaint_what_happened.apply(lambda x: lemmatizer(x))   "
      ],
      "execution_count": 34,
      "outputs": []
    },
    {
      "cell_type": "code",
      "metadata": {
        "id": "TiOp6IlG8rvI"
      },
      "source": [
        "#Write your function to Lemmatize the texts\n",
        "nlp = spacy.load('en_core_web_sm',disable=['parser','ner'])\n",
        "def spacyLemma(document):\n",
        "    'changes document by removing stopwords and generates Lemma'\n",
        "\n",
        "    doc = nlp(document)\n",
        "    document_lemma = \" \".join([tok.lemma_ for tok in doc ])\n",
        "    #document_pos  = \" \".join([tok.pos_ for tok in doc])\n",
        "    # tokenize into words\n",
        "    #words = word_tokenize(document)\n",
        "\n",
        "    # remove stop words and lemmatize\n",
        "    #words = [wordnet_lemmatizer.lemmatize(word) for word in words if word not in stopwords.words(\"english\")]\n",
        "\n",
        "    # join words to make sentence\n",
        "    #document_lemma = \" \".join(words_lemma)\n",
        "    #document_pos = \" \".join(words_pos)\n",
        "    \n",
        "    return document_lemma \n",
        "\n",
        "df_eda['Complaints_spacy_Lemma'] =  df_eda.complaint_what_happened.apply(lambda x: spacyLemma(x))"
      ],
      "execution_count": 35,
      "outputs": []
    },
    {
      "cell_type": "code",
      "metadata": {
        "id": "uXnN7aa_JrF0"
      },
      "source": [
        "#Create a dataframe('df_clean') that will have only the complaints and the lemmatized complaints \n",
        "df_clean = df_eda[['complaint_what_happened', 'Complaints_Lemma', 'Complaints_spacy_Lemma']].copy()"
      ],
      "execution_count": 36,
      "outputs": []
    },
    {
      "cell_type": "code",
      "metadata": {
        "id": "nOiDVvEIJrF0",
        "colab": {
          "base_uri": "https://localhost:8080/",
          "height": 663
        },
        "outputId": "a4aeb3e7-ae5a-4973-e08b-0321be7713e5"
      },
      "source": [
        "df_clean.head()\n"
      ],
      "execution_count": 37,
      "outputs": [
        {
          "output_type": "execute_result",
          "data": {
            "text/html": [
              "<div>\n",
              "<style scoped>\n",
              "    .dataframe tbody tr th:only-of-type {\n",
              "        vertical-align: middle;\n",
              "    }\n",
              "\n",
              "    .dataframe tbody tr th {\n",
              "        vertical-align: top;\n",
              "    }\n",
              "\n",
              "    .dataframe thead th {\n",
              "        text-align: right;\n",
              "    }\n",
              "</style>\n",
              "<table border=\"1\" class=\"dataframe\">\n",
              "  <thead>\n",
              "    <tr style=\"text-align: right;\">\n",
              "      <th></th>\n",
              "      <th>complaint_what_happened</th>\n",
              "      <th>Complaints_Lemma</th>\n",
              "      <th>Complaints_spacy_Lemma</th>\n",
              "    </tr>\n",
              "  </thead>\n",
              "  <tbody>\n",
              "    <tr>\n",
              "      <th>1</th>\n",
              "      <td>good morning my name is xxxx xxxx and i appreciate it if you could help me put a stop to chase bank cardmember services \\nin  i wrote to chase asking for debt verification and what they sent me a statement which is not acceptable i am asking the bank to validate the debt instead i been receiving mail every month from them attempting to collect a debt \\ni have a right to know this information as a consumer \\n\\nchase account  xxxx xxxx xxxx xxxx thanks in advance for your help</td>\n",
              "      <td>good morning name xxxx xxxx appreciate could help put stop chase bank cardmember service wrote chase asking debt verification sent statement acceptable asking bank validate debt instead receiving mail every month attempting collect debt right know information consumer chase account xxxx xxxx xxxx xxxx thanks advance help</td>\n",
              "      <td>good morning -PRON- name be xxxx xxxx and i appreciate -PRON- if -PRON- could help -PRON- put a stop to chase bank cardmember service \\n in   i write to chase ask for debt verification and what -PRON- send -PRON- a statement which be not acceptable i be ask the bank to validate the debt instead i be receive mail every month from -PRON- attempt to collect a debt \\n i have a right to know this information as a consumer \\n\\n chase account   xxxx xxxx xxxx xxxx thank in advance for -PRON- help</td>\n",
              "    </tr>\n",
              "    <tr>\n",
              "      <th>2</th>\n",
              "      <td>i upgraded my xxxx xxxx card in  and was told by the agent who did the upgrade my anniversary date would not change it turned the agent was giving me the wrong information in order to upgrade the account xxxx   changed my anniversary date from xxxxxxxx to xxxxxxxx without my consent xxxx has the recording of the agent who was misled me</td>\n",
              "      <td>upgraded xxxx xxxx card told agent upgrade anniversary date would change turned agent giving wrong information order upgrade account xxxx changed anniversary date xxxxxxxx xxxxxxxx without consent xxxx recording agent misled</td>\n",
              "      <td>i upgrade -PRON- xxxx xxxx card in   and be tell by the agent who do the upgrade -PRON- anniversary date would not change -PRON- turn the agent be give -PRON- the wrong information in order to upgrade the account xxxx    change -PRON- anniversary date from xxxxxxxx to xxxxxxxx without -PRON- consent xxxx have the recording of the agent who be mislead -PRON-</td>\n",
              "    </tr>\n",
              "    <tr>\n",
              "      <th>10</th>\n",
              "      <td>chase card was reported on  however fraudulent application have been submitted my identity without my consent to fraudulently obtain services do not extend credit without verifying the identity of the applicant</td>\n",
              "      <td>chase card reported however fraudulent application submitted identity without consent fraudulently obtain service extend credit without verifying identity applicant</td>\n",
              "      <td>chase card be report on   however fraudulent application have be submit -PRON- identity without -PRON- consent to fraudulently obtain service do not extend credit without verify the identity of the applicant</td>\n",
              "    </tr>\n",
              "    <tr>\n",
              "      <th>11</th>\n",
              "      <td>on  while trying to book a xxxx  xxxx  ticket i came across an offer for  to be applied towards the ticket if i applied for a rewards card i put in my information for the offer and within less than a minute was notified via the screen that a decision could not be made i immediately contacted xxxx and was referred to chase bank i then immediately contacted chase bank within no more than  of getting the notification on the screen and i was told by the chase representative i spoke with that my application was denied but she could not state why i asked for more information about the xxxx  offer and she explained that even if i had been approved the credit offer only gets applied after the first account statement and could not be used to purchase the ticket i then explicitly told her i was glad i got denied and i was absolutely no longer interested in the account i asked that the application be withdrawn and the representative obliged this all happened no later than  after putting in the application on  notwithstanding my explicit request not to proceed with the application and contrary to what i was told by the chase representative chase did in fact go ahead to open a credit account in my name on  this is now being reported in my credit report and chase has refused to correct this information on my credit report even though they went ahead to process an application which i did not consent to and out of their error</td>\n",
              "      <td>trying book xxxx xxxx ticket came across offer applied towards ticket applied reward card put information offer within le minute notified via screen decision could made immediately contacted xxxx referred chase bank immediately contacted chase bank within getting notification screen told chase representative spoke application denied could state asked information xxxx offer explained even approved credit offer get applied first account statement could used purchase ticket explicitly told glad got denied absolutely longer interested account asked application withdrawn representative obliged happened later putting application notwithstanding explicit request proceed application contrary told chase representative chase fact go ahead open credit account name reported credit report chase refused correct information credit report even though went ahead process application consent error</td>\n",
              "      <td>on   while try to book a xxxx   xxxx   ticket i come across an offer for   to be apply towards the ticket if i apply for a reward card i put in -PRON- information for the offer and within less than a minute be notify via the screen that a decision could not be make i immediately contact xxxx and be refer to chase bank i then immediately contact chase bank within no more than   of get the notification on the screen and i be tell by the chase representative i speak with that -PRON- application be deny but -PRON- could not state why i ask for more information about the xxxx   offer and -PRON- explain that even if i have be approve the credit offer only get apply after the first account statement and could not be use to purchase the ticket i then explicitly tell -PRON- i be glad i get deny and i be absolutely no longer interested in the account i ask that the application be withdraw and the representative oblige this all happen no later than   after put in the application on   notwithstanding -PRON- explicit request not to proceed with the application and contrary to what i be tell by the chase representative chase do in fact go ahead to open a credit account in -PRON- name on   this be now be report in -PRON- credit report and chase have refuse to correct this information on -PRON- credit report even though -PRON- go ahead to process an application which i do not consent to and out of -PRON- error</td>\n",
              "    </tr>\n",
              "    <tr>\n",
              "      <th>14</th>\n",
              "      <td>my grand son give me check for  i deposit it into my chase account after fund clear my chase bank closed my account never paid me my money they said they need to speek with my grand son check was clear money was taking by my chase bank refuse to pay me my money my grand son called chase  times they told him i should call not him to verify the check owner he is out the country most the time  date happen  check number xxxx claim number is xxxx with chase</td>\n",
              "      <td>grand son give check deposit chase account fund clear chase bank closed account never paid money said need speek grand son check clear money taking chase bank refuse pay money grand son called chase time told call verify check owner country time date happen check number xxxx claim number xxxx chase</td>\n",
              "      <td>-PRON- grand son give -PRON- check for   i deposit -PRON- into -PRON- chase account after fund clear -PRON- chase bank close -PRON- account never pay -PRON- -PRON- money -PRON- say -PRON- need to speek with -PRON- grand son check be clear money be take by -PRON- chase bank refuse to pay -PRON- -PRON- money -PRON- grand son call chase   time -PRON- tell -PRON- i should call not -PRON- to verify the check owner -PRON- be out the country most the time   date happen   check number xxxx claim number be xxxx with chase</td>\n",
              "    </tr>\n",
              "  </tbody>\n",
              "</table>\n",
              "</div>"
            ],
            "text/plain": [
              "                                                                                                                                                                                                                                                                                                                                                                                                                                                                                                                                                                                                                                                                                                                                                                                                                                                                                                                                                                                                                                                                                                                                                                                                                                                                                                                                                                                                                                                                      complaint_what_happened  ...                                                                                                                                                                                                                                                                                                                                                                                                                                                                                                                                                                                                                                                                                                                                                                                                                                                                                                                                                                                                                                                                                                                                                                                                                                                                                                                                                                                                                                                     Complaints_spacy_Lemma\n",
              "1                                                                                                                                                                                                                                                                                                                                                                                                                                                                                                                                                                                                                                                                                                                                                                                                                                                                                                                                                                                             good morning my name is xxxx xxxx and i appreciate it if you could help me put a stop to chase bank cardmember services \\nin  i wrote to chase asking for debt verification and what they sent me a statement which is not acceptable i am asking the bank to validate the debt instead i been receiving mail every month from them attempting to collect a debt \\ni have a right to know this information as a consumer \\n\\nchase account  xxxx xxxx xxxx xxxx thanks in advance for your help  ...                                                                                                                                                                                                                                                                                                                                                                                                                                                                                                                                                                                                                                                                                                                                                                                                                                                                                                                                                             good morning -PRON- name be xxxx xxxx and i appreciate -PRON- if -PRON- could help -PRON- put a stop to chase bank cardmember service \\n in   i write to chase ask for debt verification and what -PRON- send -PRON- a statement which be not acceptable i be ask the bank to validate the debt instead i be receive mail every month from -PRON- attempt to collect a debt \\n i have a right to know this information as a consumer \\n\\n chase account   xxxx xxxx xxxx xxxx thank in advance for -PRON- help\n",
              "2                                                                                                                                                                                                                                                                                                                                                                                                                                                                                                                                                                                                                                                                                                                                                                                                                                                                                                                                                                                                                                                                                                                                           i upgraded my xxxx xxxx card in  and was told by the agent who did the upgrade my anniversary date would not change it turned the agent was giving me the wrong information in order to upgrade the account xxxx   changed my anniversary date from xxxxxxxx to xxxxxxxx without my consent xxxx has the recording of the agent who was misled me  ...                                                                                                                                                                                                                                                                                                                                                                                                                                                                                                                                                                                                                                                                                                                                                                                                                                                                                                                                                                                                                                                                                                    i upgrade -PRON- xxxx xxxx card in   and be tell by the agent who do the upgrade -PRON- anniversary date would not change -PRON- turn the agent be give -PRON- the wrong information in order to upgrade the account xxxx    change -PRON- anniversary date from xxxxxxxx to xxxxxxxx without -PRON- consent xxxx have the recording of the agent who be mislead -PRON-\n",
              "10                                                                                                                                                                                                                                                                                                                                                                                                                                                                                                                                                                                                                                                                                                                                                                                                                                                                                                                                                                                                                                                                                                                                                                                                                                                                         chase card was reported on  however fraudulent application have been submitted my identity without my consent to fraudulently obtain services do not extend credit without verifying the identity of the applicant  ...                                                                                                                                                                                                                                                                                                                                                                                                                                                                                                                                                                                                                                                                                                                                                                                                                                                                                                                                                                                                                                                                                                                                                                                                                                                            chase card be report on   however fraudulent application have be submit -PRON- identity without -PRON- consent to fraudulently obtain service do not extend credit without verify the identity of the applicant\n",
              "11  on  while trying to book a xxxx  xxxx  ticket i came across an offer for  to be applied towards the ticket if i applied for a rewards card i put in my information for the offer and within less than a minute was notified via the screen that a decision could not be made i immediately contacted xxxx and was referred to chase bank i then immediately contacted chase bank within no more than  of getting the notification on the screen and i was told by the chase representative i spoke with that my application was denied but she could not state why i asked for more information about the xxxx  offer and she explained that even if i had been approved the credit offer only gets applied after the first account statement and could not be used to purchase the ticket i then explicitly told her i was glad i got denied and i was absolutely no longer interested in the account i asked that the application be withdrawn and the representative obliged this all happened no later than  after putting in the application on  notwithstanding my explicit request not to proceed with the application and contrary to what i was told by the chase representative chase did in fact go ahead to open a credit account in my name on  this is now being reported in my credit report and chase has refused to correct this information on my credit report even though they went ahead to process an application which i did not consent to and out of their error  ...  on   while try to book a xxxx   xxxx   ticket i come across an offer for   to be apply towards the ticket if i apply for a reward card i put in -PRON- information for the offer and within less than a minute be notify via the screen that a decision could not be make i immediately contact xxxx and be refer to chase bank i then immediately contact chase bank within no more than   of get the notification on the screen and i be tell by the chase representative i speak with that -PRON- application be deny but -PRON- could not state why i ask for more information about the xxxx   offer and -PRON- explain that even if i have be approve the credit offer only get apply after the first account statement and could not be use to purchase the ticket i then explicitly tell -PRON- i be glad i get deny and i be absolutely no longer interested in the account i ask that the application be withdraw and the representative oblige this all happen no later than   after put in the application on   notwithstanding -PRON- explicit request not to proceed with the application and contrary to what i be tell by the chase representative chase do in fact go ahead to open a credit account in -PRON- name on   this be now be report in -PRON- credit report and chase have refuse to correct this information on -PRON- credit report even though -PRON- go ahead to process an application which i do not consent to and out of -PRON- error\n",
              "14                                                                                                                                                                                                                                                                                                                                                                                                                                                                                                                                                                                                                                                                                                                                                                                                                                                                                                                                                                                                                   my grand son give me check for  i deposit it into my chase account after fund clear my chase bank closed my account never paid me my money they said they need to speek with my grand son check was clear money was taking by my chase bank refuse to pay me my money my grand son called chase  times they told him i should call not him to verify the check owner he is out the country most the time  date happen  check number xxxx claim number is xxxx with chase  ...                                                                                                                                                                                                                                                                                                                                                                                                                                                                                                                                                                                                                                                                                                                                                                                                                                                                                                                                     -PRON- grand son give -PRON- check for   i deposit -PRON- into -PRON- chase account after fund clear -PRON- chase bank close -PRON- account never pay -PRON- -PRON- money -PRON- say -PRON- need to speek with -PRON- grand son check be clear money be take by -PRON- chase bank refuse to pay -PRON- -PRON- money -PRON- grand son call chase   time -PRON- tell -PRON- i should call not -PRON- to verify the check owner -PRON- be out the country most the time   date happen   check number xxxx claim number be xxxx with chase\n",
              "\n",
              "[5 rows x 3 columns]"
            ]
          },
          "metadata": {},
          "execution_count": 37
        }
      ]
    },
    {
      "cell_type": "code",
      "metadata": {
        "id": "Kk7fc4DuJrF1"
      },
      "source": [
        "#Write your function to extract the POS tags \n",
        "\n"
      ],
      "execution_count": 38,
      "outputs": []
    },
    {
      "cell_type": "code",
      "metadata": {
        "id": "AjxfchvFJrF2",
        "colab": {
          "base_uri": "https://localhost:8080/",
          "height": 1000
        },
        "outputId": "8ca02d1e-1d6f-482d-b0bf-033a7be100c5"
      },
      "source": [
        "#The clean dataframe should now contain the raw complaint, lemmatized complaint and the complaint after removing POS tags.\n",
        "df_clean"
      ],
      "execution_count": 39,
      "outputs": [
        {
          "output_type": "execute_result",
          "data": {
            "text/html": [
              "<div>\n",
              "<style scoped>\n",
              "    .dataframe tbody tr th:only-of-type {\n",
              "        vertical-align: middle;\n",
              "    }\n",
              "\n",
              "    .dataframe tbody tr th {\n",
              "        vertical-align: top;\n",
              "    }\n",
              "\n",
              "    .dataframe thead th {\n",
              "        text-align: right;\n",
              "    }\n",
              "</style>\n",
              "<table border=\"1\" class=\"dataframe\">\n",
              "  <thead>\n",
              "    <tr style=\"text-align: right;\">\n",
              "      <th></th>\n",
              "      <th>complaint_what_happened</th>\n",
              "      <th>Complaints_Lemma</th>\n",
              "      <th>Complaints_spacy_Lemma</th>\n",
              "    </tr>\n",
              "  </thead>\n",
              "  <tbody>\n",
              "    <tr>\n",
              "      <th>1</th>\n",
              "      <td>good morning my name is xxxx xxxx and i appreciate it if you could help me put a stop to chase bank cardmember services \\nin  i wrote to chase asking for debt verification and what they sent me a statement which is not acceptable i am asking the bank to validate the debt instead i been receiving mail every month from them attempting to collect a debt \\ni have a right to know this information as a consumer \\n\\nchase account  xxxx xxxx xxxx xxxx thanks in advance for your help</td>\n",
              "      <td>good morning name xxxx xxxx appreciate could help put stop chase bank cardmember service wrote chase asking debt verification sent statement acceptable asking bank validate debt instead receiving mail every month attempting collect debt right know information consumer chase account xxxx xxxx xxxx xxxx thanks advance help</td>\n",
              "      <td>good morning -PRON- name be xxxx xxxx and i appreciate -PRON- if -PRON- could help -PRON- put a stop to chase bank cardmember service \\n in   i write to chase ask for debt verification and what -PRON- send -PRON- a statement which be not acceptable i be ask the bank to validate the debt instead i be receive mail every month from -PRON- attempt to collect a debt \\n i have a right to know this information as a consumer \\n\\n chase account   xxxx xxxx xxxx xxxx thank in advance for -PRON- help</td>\n",
              "    </tr>\n",
              "    <tr>\n",
              "      <th>2</th>\n",
              "      <td>i upgraded my xxxx xxxx card in  and was told by the agent who did the upgrade my anniversary date would not change it turned the agent was giving me the wrong information in order to upgrade the account xxxx   changed my anniversary date from xxxxxxxx to xxxxxxxx without my consent xxxx has the recording of the agent who was misled me</td>\n",
              "      <td>upgraded xxxx xxxx card told agent upgrade anniversary date would change turned agent giving wrong information order upgrade account xxxx changed anniversary date xxxxxxxx xxxxxxxx without consent xxxx recording agent misled</td>\n",
              "      <td>i upgrade -PRON- xxxx xxxx card in   and be tell by the agent who do the upgrade -PRON- anniversary date would not change -PRON- turn the agent be give -PRON- the wrong information in order to upgrade the account xxxx    change -PRON- anniversary date from xxxxxxxx to xxxxxxxx without -PRON- consent xxxx have the recording of the agent who be mislead -PRON-</td>\n",
              "    </tr>\n",
              "    <tr>\n",
              "      <th>10</th>\n",
              "      <td>chase card was reported on  however fraudulent application have been submitted my identity without my consent to fraudulently obtain services do not extend credit without verifying the identity of the applicant</td>\n",
              "      <td>chase card reported however fraudulent application submitted identity without consent fraudulently obtain service extend credit without verifying identity applicant</td>\n",
              "      <td>chase card be report on   however fraudulent application have be submit -PRON- identity without -PRON- consent to fraudulently obtain service do not extend credit without verify the identity of the applicant</td>\n",
              "    </tr>\n",
              "    <tr>\n",
              "      <th>11</th>\n",
              "      <td>on  while trying to book a xxxx  xxxx  ticket i came across an offer for  to be applied towards the ticket if i applied for a rewards card i put in my information for the offer and within less than a minute was notified via the screen that a decision could not be made i immediately contacted xxxx and was referred to chase bank i then immediately contacted chase bank within no more than  of getting the notification on the screen and i was told by the chase representative i spoke with that my application was denied but she could not state why i asked for more information about the xxxx  offer and she explained that even if i had been approved the credit offer only gets applied after the first account statement and could not be used to purchase the ticket i then explicitly told her i was glad i got denied and i was absolutely no longer interested in the account i asked that the application be withdrawn and the representative obliged this all happened no later than  after putting in the application on  notwithstanding my explicit request not to proceed with the application and contrary to what i was told by the chase representative chase did in fact go ahead to open a credit account in my name on  this is now being reported in my credit report and chase has refused to correct this information on my credit report even though they went ahead to process an application which i did not consent to and out of their error</td>\n",
              "      <td>trying book xxxx xxxx ticket came across offer applied towards ticket applied reward card put information offer within le minute notified via screen decision could made immediately contacted xxxx referred chase bank immediately contacted chase bank within getting notification screen told chase representative spoke application denied could state asked information xxxx offer explained even approved credit offer get applied first account statement could used purchase ticket explicitly told glad got denied absolutely longer interested account asked application withdrawn representative obliged happened later putting application notwithstanding explicit request proceed application contrary told chase representative chase fact go ahead open credit account name reported credit report chase refused correct information credit report even though went ahead process application consent error</td>\n",
              "      <td>on   while try to book a xxxx   xxxx   ticket i come across an offer for   to be apply towards the ticket if i apply for a reward card i put in -PRON- information for the offer and within less than a minute be notify via the screen that a decision could not be make i immediately contact xxxx and be refer to chase bank i then immediately contact chase bank within no more than   of get the notification on the screen and i be tell by the chase representative i speak with that -PRON- application be deny but -PRON- could not state why i ask for more information about the xxxx   offer and -PRON- explain that even if i have be approve the credit offer only get apply after the first account statement and could not be use to purchase the ticket i then explicitly tell -PRON- i be glad i get deny and i be absolutely no longer interested in the account i ask that the application be withdraw and the representative oblige this all happen no later than   after put in the application on   notwithstanding -PRON- explicit request not to proceed with the application and contrary to what i be tell by the chase representative chase do in fact go ahead to open a credit account in -PRON- name on   this be now be report in -PRON- credit report and chase have refuse to correct this information on -PRON- credit report even though -PRON- go ahead to process an application which i do not consent to and out of -PRON- error</td>\n",
              "    </tr>\n",
              "    <tr>\n",
              "      <th>14</th>\n",
              "      <td>my grand son give me check for  i deposit it into my chase account after fund clear my chase bank closed my account never paid me my money they said they need to speek with my grand son check was clear money was taking by my chase bank refuse to pay me my money my grand son called chase  times they told him i should call not him to verify the check owner he is out the country most the time  date happen  check number xxxx claim number is xxxx with chase</td>\n",
              "      <td>grand son give check deposit chase account fund clear chase bank closed account never paid money said need speek grand son check clear money taking chase bank refuse pay money grand son called chase time told call verify check owner country time date happen check number xxxx claim number xxxx chase</td>\n",
              "      <td>-PRON- grand son give -PRON- check for   i deposit -PRON- into -PRON- chase account after fund clear -PRON- chase bank close -PRON- account never pay -PRON- -PRON- money -PRON- say -PRON- need to speek with -PRON- grand son check be clear money be take by -PRON- chase bank refuse to pay -PRON- -PRON- money -PRON- grand son call chase   time -PRON- tell -PRON- i should call not -PRON- to verify the check owner -PRON- be out the country most the time   date happen   check number xxxx claim number be xxxx with chase</td>\n",
              "    </tr>\n",
              "    <tr>\n",
              "      <th>...</th>\n",
              "      <td>...</td>\n",
              "      <td>...</td>\n",
              "      <td>...</td>\n",
              "    </tr>\n",
              "    <tr>\n",
              "      <th>78303</th>\n",
              "      <td>after being a chase card customer for well over a decade was offered multiple solicitations for acquiring new credit cards with chase  all with bonus airline miles and hotel points was approved for all    new cards with no annual fee for  year after less than  months with payment always paid as agreed chase closed all my cards one of my    approved new cards was never activated but was sent to me\\n\\nchase has done harm to my credit has charged me an annual fee even though they cancelled my account failed to credit my points for both airlines and hotel failed to credit up to  for xxxx enrollment and failed to credit airline charge as agreed upon</td>\n",
              "      <td>chase card customer well decade offered multiple solicitation acquiring new credit card chase bonus airline mile hotel point approved new card annual fee year le month payment always paid agreed chase closed card one approved new card never activated sent chase done harm credit charged annual fee even though cancelled account failed credit point airline hotel failed credit xxxx enrollment failed credit airline charge agreed upon</td>\n",
              "      <td>after be a chase card customer for well over a decade be offer multiple solicitation for acquire new credit card with chase   all with bonus airline mile and hotel point be approve for all     new card with no annual fee for   year after less than   month with payment always pay as agree chase close all -PRON- card one of -PRON-     approve new card be never activate but be send to -PRON- \\n\\n chase have do harm to -PRON- credit have charge -PRON- an annual fee even though -PRON- cancel -PRON- account fail to credit -PRON- point for both airline and hotel fail to credit up to   for xxxx enrollment and fail to credit airline charge as agree upon</td>\n",
              "    </tr>\n",
              "    <tr>\n",
              "      <th>78309</th>\n",
              "      <td>on wednesday xxxxxxxx i called chas my xxxx xxxx visa credit card provider and asked how to make a claim under their purchase protection benefit on xxxxxxxx i purchased three high school textbooks for my xxxx year old daughter because she transferred to a new school all three books were damaged when a water bottle in her backpack broke the chase representative assured me the textbooks would be covered and instructed me to file a claim at xxxx i immediately went to the website and filed the claim including uploading all of the requested paperwork which included a copy of my credit card statement copies of the three receipts and photographic evidence of the damage the website even had  books  as one of the catagories i could list as the type of item they cover and that i could make a claim on after following up repeatedly on my claim since the insurance provider failed to  review my information and contact me within  business days to outline the next steps of the process  as outlined in an email i received acknowledging my claim submission i called to complain the representative said claims are not looked at by an examiner  for eight to ten days  and then it would take  two days to actually review the claim  i responded that this information was contradictory to the information provided in writing in the email xxxx sent to me and she said that she is not an adjuster and that is how it works i then asked to speak with an adjuster and she agreed to connect me to one i was then put on hold and when she returned she said my file had  just been updated while i was on hold and that the claim was being denied because textbooks have finite lives and are undergo revision after courses end  i explained that my daughter s course had not ended and that i was told specifically by chase that my textbook purchases would be covered and was again told they were refusing my claim  by the time the call ended i received an email stating that my claim status had been updated and was being denied i find this completely outrageous and borderline fraudulent</td>\n",
              "      <td>wednesday xxxxxxxx called chas xxxx xxxx visa credit card provider asked make claim purchase protection benefit xxxxxxxx purchased three high school textbook xxxx year old daughter transferred new school three book damaged water bottle backpack broke chase representative assured textbook would covered instructed file claim xxxx immediately went website filed claim including uploading requested paperwork included copy credit card statement copy three receipt photographic evidence damage website even book one catagories could list type item cover could make claim following repeatedly claim since insurance provider failed review information contact within business day outline next step process outlined email received acknowledging claim submission called complain representative said claim looked examiner eight ten day would take two day actually review claim responded information contradictory information provided writing email xxxx sent said adjuster work asked speak adjuster agreed connect one put hold returned said file updated hold claim denied textbook finite life undergo revision course end explained daughter course ended told specifically chase textbook purchase would covered told refusing claim time call ended received email stating claim status updated denied find completely outrageous borderline fraudulent</td>\n",
              "      <td>on wednesday xxxxxxxx i call chas -PRON- xxxx xxxx visa credit card provider and ask how to make a claim under -PRON- purchase protection benefit on xxxxxxxx i purchase three high school textbook for -PRON- xxxx year old daughter because -PRON- transfer to a new school all three book be damage when a water bottle in -PRON- backpack break the chase representative assure -PRON- the textbook would be cover and instruct -PRON- to file a claim at xxxx i immediately go to the website and file the claim include upload all of the request paperwork which include a copy of -PRON- credit card statement copy of the three receipt and photographic evidence of the damage the website even have   book   as one of the catagorie i could list as the type of item -PRON- cover and that i could make a claim on after follow up repeatedly on -PRON- claim since the insurance provider fail to   review -PRON- information and contact -PRON- within   business day to outline the next step of the process   as outline in an email i receive acknowledge -PRON- claim submission i call to complain the representative say claim be not look at by an examiner   for eight to ten day   and then -PRON- would take   two day to actually review the claim   i respond that this information be contradictory to the information provide in writing in the email xxxx send to -PRON- and -PRON- say that -PRON- be not an adjuster and that be how -PRON- work i then ask to speak with an adjuster and -PRON- agree to connect -PRON- to one i be then put on hold and when -PRON- return -PRON- say -PRON- file have   just be update while i be on hold and that the claim be be deny because textbook have finite life and be undergo revision after course end   i explain that -PRON- daughter s course have not end and that i be tell specifically by chase that -PRON- textbook purchase would be cover and be again tell -PRON- be refuse -PRON- claim   by the time the call end i receive an email state that -PRON- claim status have be update and be be deny i find this completely outrageous and borderline fraudulent</td>\n",
              "    </tr>\n",
              "    <tr>\n",
              "      <th>78310</th>\n",
              "      <td>i am not familiar with xxxx pay and did not understand the great risk this provides to consumers i believed this to be safe as it was through my chase bank app i have been with chase for almost  years and trust their mobile banking and now am sadly regretful i am being told to deal with the merchant except the merchant has refused to answer my inquiries and now shut down communication the website of the said merchant looks entirely legitamite and is even using the faces of highly successful brands with individuals linked to their social media without their consent in performing research of the phone number and other associated information available through pi it is very clear this merchant is continually creating new account title holders to perpetuate this cycle of fraud furthermore as this is a non fixed voip being used i believe they are fraudulently using the identity of the real xxxx xxxx chase bank told me they wouldnt even investigate report this to xxxx or allow me to file a report or take any potential recourse for the matter there isnt even a protocol in place to address this issue yet the chase mobile app verbiage makes a point to deceptively position this app as under the branch of chase banking service and as such imply a degree of entitlement to its customer service protection protocols chase has your back which reads on the very same link as the xxxx tab  is most certainly not true this places consumers at risk when using this mobile service and does not flag the concern of chase in the slightest at minimum the risk of using xxxx on your mobile banking app must realistically be made aware to the public as it stands to be potentially devastating i have plans to file reports with all corresponding authorities as well as notify and contact the individual whose identity is being misused to inform him i also intend to urge my neighbor who works in television that the news network should perhaps present the risk of using xxxx and xxxx integrated banking apps to the public i understand fraud and scamming are overwhelming rampant but a banking mogul such as chase not having any recourse of action is simply a risk that needs to be disclosed more throughly i would not have clicked on the to link to the extent i did if i would have been better informed</td>\n",
              "      <td>familiar xxxx pay understand great risk provides consumer believed safe chase bank app chase almost year trust mobile banking sadly regretful told deal merchant except merchant refused answer inquiry shut communication website said merchant look entirely legitamite even using face highly successful brand individual linked social medium without consent performing research phone number associated information available pi clear merchant continually creating new account title holder perpetuate cycle fraud furthermore non fixed voip used believe fraudulently using identity real xxxx xxxx chase bank told wouldnt even investigate report xxxx allow file report take potential recourse matter isnt even protocol place address issue yet chase mobile app verbiage make point deceptively position app branch chase banking service imply degree entitlement customer service protection protocol chase back read link xxxx tab certainly true place consumer risk using mobile service flag concern chase slightest minimum risk using xxxx mobile banking app must realistically made aware public stand potentially devastating plan file report corresponding authority well notify contact individual whose identity misused inform also intend urge neighbor work television news network perhaps present risk using xxxx xxxx integrated banking apps public understand fraud scamming overwhelming rampant banking mogul chase recourse action simply risk need disclosed throughly would clicked link extent would better informed</td>\n",
              "      <td>i be not familiar with xxxx pay and do not understand the great risk this provide to consumer i believe this to be safe as -PRON- be through -PRON- chase bank app i have be with chase for almost   year and trust -PRON- mobile banking and now be sadly regretful i be be tell to deal with the merchant except the merchant have refuse to answer -PRON- inquiry and now shut down communication the website of the say merchant look entirely legitamite and be even use the face of highly successful brand with individual link to -PRON- social medium without -PRON- consent in perform research of the phone number and other associate information available through pi -PRON- be very clear this merchant be continually create new account title holder to perpetuate this cycle of fraud furthermore as this be a non fixed voip be use i believe -PRON- be fraudulently use the identity of the real xxxx xxxx chase bank tell -PRON- -PRON- would not even investigate report this to xxxx or allow -PRON- to file a report or take any potential recourse for the matter there be not even a protocol in place to address this issue yet the chase mobile app verbiage make a point to deceptively position this app as under the branch of chase banking service and as such imply a degree of entitlement to -PRON- customer service protection protocol chase have -PRON- back which read on the very same link as the xxxx tab   be most certainly not true this place consumer at risk when use this mobile service and do not flag the concern of chase in the slight at minimum the risk of use xxxx on -PRON- mobile banking app must realistically be make aware to the public as -PRON- stand to be potentially devastating i have plan to file report with all correspond authority as well as notify and contact the individual whose identity be be misuse to inform -PRON- i also intend to urge -PRON- neighbor who work in television that the news network should perhaps present the risk of use xxxx and xxxx integrate banking app to the public i understand fraud and scamming be overwhelm rampant but a banking mogul such as chase not have any recourse of action be simply a risk that need to be disclose more throughly i would not have click on the to link to the extent i do if i would have be better inform</td>\n",
              "    </tr>\n",
              "    <tr>\n",
              "      <th>78311</th>\n",
              "      <td>i have had flawless credit for  yrs ive had chase credit cards  chase freedom  specifically since xxxx with no problems ever ive done many balance transfers in my life so i have plenty of experience i recently did a balance transfer with chase freedom for   did many with other chase cards but apparently not  freeedom   when i got my first bill my minimum payment was  i was shocked i immediately called on xxxxxxxx the representative told me that the min payment was so high bc they were making me pay the  balance transfer fee  up front but my future payments would be around    of total balance  which is standard and the rate they advertise  i went to pay the next payment on xxxxxxxx  was once again shocked to see my minimum payment was  i paid it but i have been trying to work this out with chase ever since apparently the representative was wrong  i am actually expected to pay   instead of the standard   they normally charge bc that was written in my  user agreement  paperwork back in xxxxxxxx  years ago they currently charge   to everyone else in the world my other cards including chase are all   this  is an unreasonable amt to expect someone to pay for  credit card i have kids  many other bills to pay they never warned me they were so  off the charts  with their minimum payment percentage  except for my original paperwork in xxxxxxxx  they offer everyone else   terms they change their  terms  anytime it benefits them but wont budge to lower it to make this payment more affordable  reasonable so i also asked them  as soon as i found this out  to refund my  transfer fee so i could use it to transfer the balance to a different card with a more reasonable minimum payment they refused i also asked if they would transfer to my chase slate card which has   min pmt they also refused they will not work with me at all i am a responsible working person i would like to preserve my good credit i could easily transfer again to a different card but id have to pay another lump sum of  again</td>\n",
              "      <td>flawless credit yr ive chase credit card chase freedom specifically since xxxx problem ever ive done many balance transfer life plenty experience recently balance transfer chase freedom many chase card apparently freeedom got first bill minimum payment shocked immediately called xxxxxxxx representative told min payment high bc making pay balance transfer fee front future payment would around total balance standard rate advertise went pay next payment xxxxxxxx shocked see minimum payment paid trying work chase ever since apparently representative wrong actually expected pay instead standard normally charge bc written user agreement paperwork back xxxxxxxx year ago currently charge everyone else world card including chase unreasonable amt expect someone pay credit card kid many bill pay never warned chart minimum payment percentage except original paperwork xxxxxxxx offer everyone else term change term anytime benefit wont budge lower make payment affordable reasonable also asked soon found refund transfer fee could use transfer balance different card reasonable minimum payment refused also asked would transfer chase slate card min pmt also refused work responsible working person would like preserve good credit could easily transfer different card id pay another lump sum</td>\n",
              "      <td>i have have flawless credit for   yrs -PRON- have have chase credit card   chase freedom   specifically since xxxx with no problem ever -PRON- have do many balance transfer in -PRON- life so i have plenty of experience i recently do a balance transfer with chase freedom for    do many with other chase card but apparently not   freeedom    when i get -PRON- first bill -PRON- minimum payment be   i be shock i immediately call on xxxxxxxx the representative tell -PRON- that the min payment be so high bc -PRON- be make -PRON- pay the   balance transfer fee   up front but -PRON- future payment would be around     of total balance   which be standard and the rate -PRON- advertise   i go to pay the next payment on xxxxxxxx   be once again shock to see -PRON- minimum payment be   i pay -PRON- but i have be try to work this out with chase ever since apparently the representative be wrong   i be actually expect to pay    instead of the standard    -PRON- normally charge bc that be write in -PRON-   user agreement   paperwork back in xxxxxxxx   year ago -PRON- currently charge    to everyone else in the world -PRON- other card include chase be all    this   be an unreasonable amt to expect someone to pay for   credit card i have kid   many other bill to pay -PRON- never warn -PRON- -PRON- be so   off the chart   with -PRON- minimum payment percentage   except for -PRON- original paperwork in xxxxxxxx   -PRON- offer everyone else    term -PRON- change -PRON-   term   anytime -PRON- benefit -PRON- but will not budge to lower -PRON- to make this payment more affordable   reasonable so i also ask -PRON-   as soon as i find this out   to refund -PRON-   transfer fee so i could use -PRON- to transfer the balance to a different card with a more reasonable minimum payment -PRON- refuse i also ask if -PRON- would transfer to -PRON- chase slate card which have    min pmt -PRON- also refuse -PRON- will not work with -PRON- at all i be a responsible work person i would like to preserve -PRON- good credit i could easily transfer again to a different card but -PRON- would have to pay another lump sum of   again</td>\n",
              "    </tr>\n",
              "    <tr>\n",
              "      <th>78312</th>\n",
              "      <td>roughly  years ago i closed out my accounts with jp morgan chase bank xxxx in order to close out an unsecured line of credit i had to pay it off i did that to close out my account roughly  payment when i closed out the accounts and now i get this late payment that showed up on my credit report after  years stating i owe close to  dollars i have never had any payment schedules or notifications in the  years because i paid it off upon calling them i am told i need to show proof i paid it off i would like to think that if indeed i had not paid it off  which i did  i would have immediately received late payment notifications i left chase bank because of some poor customer service and charges that were way out of line with the other banking institutions</td>\n",
              "      <td>roughly year ago closed account jp morgan chase bank xxxx order close unsecured line credit pay close account roughly payment closed account get late payment showed credit report year stating owe close dollar never payment schedule notification year paid upon calling told need show proof paid would like think indeed paid would immediately received late payment notification left chase bank poor customer service charge way line banking institution</td>\n",
              "      <td>roughly   year ago i close out -PRON- account with jp morgan chase bank xxxx in order to close out an unsecured line of credit i have to pay -PRON- off i do that to close out -PRON- account roughly   payment when i close out the account and now i get this late payment that show up on -PRON- credit report after   year state i owe close to   dollar i have never have any payment schedule or notification in the   year because i pay -PRON- off upon call -PRON- i be tell i need to show proof i pay -PRON- off i would like to think that if indeed i have not pay -PRON- off   which i do   i would have immediately receive late payment notification i leave chase bank because of some poor customer service and charge that be way out of line with the other banking institution</td>\n",
              "    </tr>\n",
              "  </tbody>\n",
              "</table>\n",
              "<p>21072 rows × 3 columns</p>\n",
              "</div>"
            ],
            "text/plain": [
              "                                                                                                                                                                                                                                                                                                                                                                                                                                                                                                                                                                                                                                                                                                                                                                                                                                                                                                                                                                                                                                                                                                                                                                                                                                                                                                                                                                                                                                                                                                                                                                                                                                                                                                                                                                                                                                                                                                                                                                                                                                                                                                                                                                                                                                                                                                                                                                        complaint_what_happened  ...                                                                                                                                                                                                                                                                                                                                                                                                                                                                                                                                                                                                                                                                                                                                                                                                                                                                                                                                                                                                                                                                                                                                                                                                                                                                                                                                                                                                                                                                                                                                                                                                                                                                                                                                                                                                                                                                                                                                                                                                                                                                                                                                                                                                                                                                                                                                           Complaints_spacy_Lemma\n",
              "1                                                                                                                                                                                                                                                                                                                                                                                                                                                                                                                                                                                                                                                                                                                                                                                                                                                                                                                                                                                                                                                                                                                                                                                                                                                                                                                                                                                                                                                                                                                                                                                                                                                                                                                                                                                                                                                                                               good morning my name is xxxx xxxx and i appreciate it if you could help me put a stop to chase bank cardmember services \\nin  i wrote to chase asking for debt verification and what they sent me a statement which is not acceptable i am asking the bank to validate the debt instead i been receiving mail every month from them attempting to collect a debt \\ni have a right to know this information as a consumer \\n\\nchase account  xxxx xxxx xxxx xxxx thanks in advance for your help  ...                                                                                                                                                                                                                                                                                                                                                                                                                                                                                                                                                                                                                                                                                                                                                                                                                                                                                                                                                                                                                                                                                                                                                                                                                                                                                                                                                                                                                                                                                                                                                                                                                                                                                                                                                                                                                                                   good morning -PRON- name be xxxx xxxx and i appreciate -PRON- if -PRON- could help -PRON- put a stop to chase bank cardmember service \\n in   i write to chase ask for debt verification and what -PRON- send -PRON- a statement which be not acceptable i be ask the bank to validate the debt instead i be receive mail every month from -PRON- attempt to collect a debt \\n i have a right to know this information as a consumer \\n\\n chase account   xxxx xxxx xxxx xxxx thank in advance for -PRON- help\n",
              "2                                                                                                                                                                                                                                                                                                                                                                                                                                                                                                                                                                                                                                                                                                                                                                                                                                                                                                                                                                                                                                                                                                                                                                                                                                                                                                                                                                                                                                                                                                                                                                                                                                                                                                                                                                                                                                                                                                                                                                                                                                             i upgraded my xxxx xxxx card in  and was told by the agent who did the upgrade my anniversary date would not change it turned the agent was giving me the wrong information in order to upgrade the account xxxx   changed my anniversary date from xxxxxxxx to xxxxxxxx without my consent xxxx has the recording of the agent who was misled me  ...                                                                                                                                                                                                                                                                                                                                                                                                                                                                                                                                                                                                                                                                                                                                                                                                                                                                                                                                                                                                                                                                                                                                                                                                                                                                                                                                                                                                                                                                                                                                                                                                                                                                                                                                                                                                                                                                                                                                                                                          i upgrade -PRON- xxxx xxxx card in   and be tell by the agent who do the upgrade -PRON- anniversary date would not change -PRON- turn the agent be give -PRON- the wrong information in order to upgrade the account xxxx    change -PRON- anniversary date from xxxxxxxx to xxxxxxxx without -PRON- consent xxxx have the recording of the agent who be mislead -PRON-\n",
              "10                                                                                                                                                                                                                                                                                                                                                                                                                                                                                                                                                                                                                                                                                                                                                                                                                                                                                                                                                                                                                                                                                                                                                                                                                                                                                                                                                                                                                                                                                                                                                                                                                                                                                                                                                                                                                                                                                                                                                                                                                                                                                                                                                                           chase card was reported on  however fraudulent application have been submitted my identity without my consent to fraudulently obtain services do not extend credit without verifying the identity of the applicant  ...                                                                                                                                                                                                                                                                                                                                                                                                                                                                                                                                                                                                                                                                                                                                                                                                                                                                                                                                                                                                                                                                                                                                                                                                                                                                                                                                                                                                                                                                                                                                                                                                                                                                                                                                                                                                                                                                                                                                                                                                                                                                                                                                                  chase card be report on   however fraudulent application have be submit -PRON- identity without -PRON- consent to fraudulently obtain service do not extend credit without verify the identity of the applicant\n",
              "11                                                                                                                                                                                                                                                                                                                                                                                                                                                                                                                                                                                                                                                                                                                                                                                                                                                                                                    on  while trying to book a xxxx  xxxx  ticket i came across an offer for  to be applied towards the ticket if i applied for a rewards card i put in my information for the offer and within less than a minute was notified via the screen that a decision could not be made i immediately contacted xxxx and was referred to chase bank i then immediately contacted chase bank within no more than  of getting the notification on the screen and i was told by the chase representative i spoke with that my application was denied but she could not state why i asked for more information about the xxxx  offer and she explained that even if i had been approved the credit offer only gets applied after the first account statement and could not be used to purchase the ticket i then explicitly told her i was glad i got denied and i was absolutely no longer interested in the account i asked that the application be withdrawn and the representative obliged this all happened no later than  after putting in the application on  notwithstanding my explicit request not to proceed with the application and contrary to what i was told by the chase representative chase did in fact go ahead to open a credit account in my name on  this is now being reported in my credit report and chase has refused to correct this information on my credit report even though they went ahead to process an application which i did not consent to and out of their error  ...                                                                                                                                                                                                                                                                                                                                                                                                                                                                                                                                                                                                                                                                                                                                                                                                                                                                                        on   while try to book a xxxx   xxxx   ticket i come across an offer for   to be apply towards the ticket if i apply for a reward card i put in -PRON- information for the offer and within less than a minute be notify via the screen that a decision could not be make i immediately contact xxxx and be refer to chase bank i then immediately contact chase bank within no more than   of get the notification on the screen and i be tell by the chase representative i speak with that -PRON- application be deny but -PRON- could not state why i ask for more information about the xxxx   offer and -PRON- explain that even if i have be approve the credit offer only get apply after the first account statement and could not be use to purchase the ticket i then explicitly tell -PRON- i be glad i get deny and i be absolutely no longer interested in the account i ask that the application be withdraw and the representative oblige this all happen no later than   after put in the application on   notwithstanding -PRON- explicit request not to proceed with the application and contrary to what i be tell by the chase representative chase do in fact go ahead to open a credit account in -PRON- name on   this be now be report in -PRON- credit report and chase have refuse to correct this information on -PRON- credit report even though -PRON- go ahead to process an application which i do not consent to and out of -PRON- error\n",
              "14                                                                                                                                                                                                                                                                                                                                                                                                                                                                                                                                                                                                                                                                                                                                                                                                                                                                                                                                                                                                                                                                                                                                                                                                                                                                                                                                                                                                                                                                                                                                                                                                                                                                                                                                                                                                                                                                                                                     my grand son give me check for  i deposit it into my chase account after fund clear my chase bank closed my account never paid me my money they said they need to speek with my grand son check was clear money was taking by my chase bank refuse to pay me my money my grand son called chase  times they told him i should call not him to verify the check owner he is out the country most the time  date happen  check number xxxx claim number is xxxx with chase  ...                                                                                                                                                                                                                                                                                                                                                                                                                                                                                                                                                                                                                                                                                                                                                                                                                                                                                                                                                                                                                                                                                                                                                                                                                                                                                                                                                                                                                                                                                                                                                                                                                                                                                                                                                                                                                           -PRON- grand son give -PRON- check for   i deposit -PRON- into -PRON- chase account after fund clear -PRON- chase bank close -PRON- account never pay -PRON- -PRON- money -PRON- say -PRON- need to speek with -PRON- grand son check be clear money be take by -PRON- chase bank refuse to pay -PRON- -PRON- money -PRON- grand son call chase   time -PRON- tell -PRON- i should call not -PRON- to verify the check owner -PRON- be out the country most the time   date happen   check number xxxx claim number be xxxx with chase\n",
              "...                                                                                                                                                                                                                                                                                                                                                                                                                                                                                                                                                                                                                                                                                                                                                                                                                                                                                                                                                                                                                                                                                                                                                                                                                                                                                                                                                                                                                                                                                                                                                                                                                                                                                                                                                                                                                                                                                                                                                                                                                                                                                                                                                                                                                                                                                                                                                                                         ...  ...                                                                                                                                                                                                                                                                                                                                                                                                                                                                                                                                                                                                                                                                                                                                                                                                                                                                                                                                                                                                                                                                                                                                                                                                                                                                                                                                                                                                                                                                                                                                                                                                                                                                                                                                                                                                                                                                                                                                                                                                                                                                                                                                                                                                                                                                                                                                                              ...\n",
              "78303                                                                                                                                                                                                                                                                                                                                                                                                                                                                                                                                                                                                                                                                                                                                                                                                                                                                                                                                                                                                                                                                                                                                                                                                                                                                                                                                                                                                                                                                                                                                                                                                                                                                                                              after being a chase card customer for well over a decade was offered multiple solicitations for acquiring new credit cards with chase  all with bonus airline miles and hotel points was approved for all    new cards with no annual fee for  year after less than  months with payment always paid as agreed chase closed all my cards one of my    approved new cards was never activated but was sent to me\\n\\nchase has done harm to my credit has charged me an annual fee even though they cancelled my account failed to credit my points for both airlines and hotel failed to credit up to  for xxxx enrollment and failed to credit airline charge as agreed upon  ...                                                                                                                                                                                                                                                                                                                                                                                                                                                                                                                                                                                                                                                                                                                                                                                                                                                                                                                                                                                                                                                                                                                                                                                                                                                                                                                                                                                                                                                                                                                                                                                                                                                                                     after be a chase card customer for well over a decade be offer multiple solicitation for acquire new credit card with chase   all with bonus airline mile and hotel point be approve for all     new card with no annual fee for   year after less than   month with payment always pay as agree chase close all -PRON- card one of -PRON-     approve new card be never activate but be send to -PRON- \\n\\n chase have do harm to -PRON- credit have charge -PRON- an annual fee even though -PRON- cancel -PRON- account fail to credit -PRON- point for both airline and hotel fail to credit up to   for xxxx enrollment and fail to credit airline charge as agree upon\n",
              "78309                                                                                                                                                                                                                                       on wednesday xxxxxxxx i called chas my xxxx xxxx visa credit card provider and asked how to make a claim under their purchase protection benefit on xxxxxxxx i purchased three high school textbooks for my xxxx year old daughter because she transferred to a new school all three books were damaged when a water bottle in her backpack broke the chase representative assured me the textbooks would be covered and instructed me to file a claim at xxxx i immediately went to the website and filed the claim including uploading all of the requested paperwork which included a copy of my credit card statement copies of the three receipts and photographic evidence of the damage the website even had  books  as one of the catagories i could list as the type of item they cover and that i could make a claim on after following up repeatedly on my claim since the insurance provider failed to  review my information and contact me within  business days to outline the next steps of the process  as outlined in an email i received acknowledging my claim submission i called to complain the representative said claims are not looked at by an examiner  for eight to ten days  and then it would take  two days to actually review the claim  i responded that this information was contradictory to the information provided in writing in the email xxxx sent to me and she said that she is not an adjuster and that is how it works i then asked to speak with an adjuster and she agreed to connect me to one i was then put on hold and when she returned she said my file had  just been updated while i was on hold and that the claim was being denied because textbooks have finite lives and are undergo revision after courses end  i explained that my daughter s course had not ended and that i was told specifically by chase that my textbook purchases would be covered and was again told they were refusing my claim  by the time the call ended i received an email stating that my claim status had been updated and was being denied i find this completely outrageous and borderline fraudulent  ...                                                                                                                                                                                                         on wednesday xxxxxxxx i call chas -PRON- xxxx xxxx visa credit card provider and ask how to make a claim under -PRON- purchase protection benefit on xxxxxxxx i purchase three high school textbook for -PRON- xxxx year old daughter because -PRON- transfer to a new school all three book be damage when a water bottle in -PRON- backpack break the chase representative assure -PRON- the textbook would be cover and instruct -PRON- to file a claim at xxxx i immediately go to the website and file the claim include upload all of the request paperwork which include a copy of -PRON- credit card statement copy of the three receipt and photographic evidence of the damage the website even have   book   as one of the catagorie i could list as the type of item -PRON- cover and that i could make a claim on after follow up repeatedly on -PRON- claim since the insurance provider fail to   review -PRON- information and contact -PRON- within   business day to outline the next step of the process   as outline in an email i receive acknowledge -PRON- claim submission i call to complain the representative say claim be not look at by an examiner   for eight to ten day   and then -PRON- would take   two day to actually review the claim   i respond that this information be contradictory to the information provide in writing in the email xxxx send to -PRON- and -PRON- say that -PRON- be not an adjuster and that be how -PRON- work i then ask to speak with an adjuster and -PRON- agree to connect -PRON- to one i be then put on hold and when -PRON- return -PRON- say -PRON- file have   just be update while i be on hold and that the claim be be deny because textbook have finite life and be undergo revision after course end   i explain that -PRON- daughter s course have not end and that i be tell specifically by chase that -PRON- textbook purchase would be cover and be again tell -PRON- be refuse -PRON- claim   by the time the call end i receive an email state that -PRON- claim status have be update and be be deny i find this completely outrageous and borderline fraudulent\n",
              "78310  i am not familiar with xxxx pay and did not understand the great risk this provides to consumers i believed this to be safe as it was through my chase bank app i have been with chase for almost  years and trust their mobile banking and now am sadly regretful i am being told to deal with the merchant except the merchant has refused to answer my inquiries and now shut down communication the website of the said merchant looks entirely legitamite and is even using the faces of highly successful brands with individuals linked to their social media without their consent in performing research of the phone number and other associated information available through pi it is very clear this merchant is continually creating new account title holders to perpetuate this cycle of fraud furthermore as this is a non fixed voip being used i believe they are fraudulently using the identity of the real xxxx xxxx chase bank told me they wouldnt even investigate report this to xxxx or allow me to file a report or take any potential recourse for the matter there isnt even a protocol in place to address this issue yet the chase mobile app verbiage makes a point to deceptively position this app as under the branch of chase banking service and as such imply a degree of entitlement to its customer service protection protocols chase has your back which reads on the very same link as the xxxx tab  is most certainly not true this places consumers at risk when using this mobile service and does not flag the concern of chase in the slightest at minimum the risk of using xxxx on your mobile banking app must realistically be made aware to the public as it stands to be potentially devastating i have plans to file reports with all corresponding authorities as well as notify and contact the individual whose identity is being misused to inform him i also intend to urge my neighbor who works in television that the news network should perhaps present the risk of using xxxx and xxxx integrated banking apps to the public i understand fraud and scamming are overwhelming rampant but a banking mogul such as chase not having any recourse of action is simply a risk that needs to be disclosed more throughly i would not have clicked on the to link to the extent i did if i would have been better informed  ...  i be not familiar with xxxx pay and do not understand the great risk this provide to consumer i believe this to be safe as -PRON- be through -PRON- chase bank app i have be with chase for almost   year and trust -PRON- mobile banking and now be sadly regretful i be be tell to deal with the merchant except the merchant have refuse to answer -PRON- inquiry and now shut down communication the website of the say merchant look entirely legitamite and be even use the face of highly successful brand with individual link to -PRON- social medium without -PRON- consent in perform research of the phone number and other associate information available through pi -PRON- be very clear this merchant be continually create new account title holder to perpetuate this cycle of fraud furthermore as this be a non fixed voip be use i believe -PRON- be fraudulently use the identity of the real xxxx xxxx chase bank tell -PRON- -PRON- would not even investigate report this to xxxx or allow -PRON- to file a report or take any potential recourse for the matter there be not even a protocol in place to address this issue yet the chase mobile app verbiage make a point to deceptively position this app as under the branch of chase banking service and as such imply a degree of entitlement to -PRON- customer service protection protocol chase have -PRON- back which read on the very same link as the xxxx tab   be most certainly not true this place consumer at risk when use this mobile service and do not flag the concern of chase in the slight at minimum the risk of use xxxx on -PRON- mobile banking app must realistically be make aware to the public as -PRON- stand to be potentially devastating i have plan to file report with all correspond authority as well as notify and contact the individual whose identity be be misuse to inform -PRON- i also intend to urge -PRON- neighbor who work in television that the news network should perhaps present the risk of use xxxx and xxxx integrate banking app to the public i understand fraud and scamming be overwhelm rampant but a banking mogul such as chase not have any recourse of action be simply a risk that need to be disclose more throughly i would not have click on the to link to the extent i do if i would have be better inform\n",
              "78311                                                                                                                                                                                                                                                                                                 i have had flawless credit for  yrs ive had chase credit cards  chase freedom  specifically since xxxx with no problems ever ive done many balance transfers in my life so i have plenty of experience i recently did a balance transfer with chase freedom for   did many with other chase cards but apparently not  freeedom   when i got my first bill my minimum payment was  i was shocked i immediately called on xxxxxxxx the representative told me that the min payment was so high bc they were making me pay the  balance transfer fee  up front but my future payments would be around    of total balance  which is standard and the rate they advertise  i went to pay the next payment on xxxxxxxx  was once again shocked to see my minimum payment was  i paid it but i have been trying to work this out with chase ever since apparently the representative was wrong  i am actually expected to pay   instead of the standard   they normally charge bc that was written in my  user agreement  paperwork back in xxxxxxxx  years ago they currently charge   to everyone else in the world my other cards including chase are all   this  is an unreasonable amt to expect someone to pay for  credit card i have kids  many other bills to pay they never warned me they were so  off the charts  with their minimum payment percentage  except for my original paperwork in xxxxxxxx  they offer everyone else   terms they change their  terms  anytime it benefits them but wont budge to lower it to make this payment more affordable  reasonable so i also asked them  as soon as i found this out  to refund my  transfer fee so i could use it to transfer the balance to a different card with a more reasonable minimum payment they refused i also asked if they would transfer to my chase slate card which has   min pmt they also refused they will not work with me at all i am a responsible working person i would like to preserve my good credit i could easily transfer again to a different card but id have to pay another lump sum of  again  ...                                                                                                                                                      i have have flawless credit for   yrs -PRON- have have chase credit card   chase freedom   specifically since xxxx with no problem ever -PRON- have do many balance transfer in -PRON- life so i have plenty of experience i recently do a balance transfer with chase freedom for    do many with other chase card but apparently not   freeedom    when i get -PRON- first bill -PRON- minimum payment be   i be shock i immediately call on xxxxxxxx the representative tell -PRON- that the min payment be so high bc -PRON- be make -PRON- pay the   balance transfer fee   up front but -PRON- future payment would be around     of total balance   which be standard and the rate -PRON- advertise   i go to pay the next payment on xxxxxxxx   be once again shock to see -PRON- minimum payment be   i pay -PRON- but i have be try to work this out with chase ever since apparently the representative be wrong   i be actually expect to pay    instead of the standard    -PRON- normally charge bc that be write in -PRON-   user agreement   paperwork back in xxxxxxxx   year ago -PRON- currently charge    to everyone else in the world -PRON- other card include chase be all    this   be an unreasonable amt to expect someone to pay for   credit card i have kid   many other bill to pay -PRON- never warn -PRON- -PRON- be so   off the chart   with -PRON- minimum payment percentage   except for -PRON- original paperwork in xxxxxxxx   -PRON- offer everyone else    term -PRON- change -PRON-   term   anytime -PRON- benefit -PRON- but will not budge to lower -PRON- to make this payment more affordable   reasonable so i also ask -PRON-   as soon as i find this out   to refund -PRON-   transfer fee so i could use -PRON- to transfer the balance to a different card with a more reasonable minimum payment -PRON- refuse i also ask if -PRON- would transfer to -PRON- chase slate card which have    min pmt -PRON- also refuse -PRON- will not work with -PRON- at all i be a responsible work person i would like to preserve -PRON- good credit i could easily transfer again to a different card but -PRON- would have to pay another lump sum of   again\n",
              "78312                                                                                                                                                                                                                                                                                                                                                                                                                                                                                                                                                                                                                                                                                                                                                                                                                                                                                                                                                                                                                                                                                                                                                                                                                                                                                                                                                                                                                                                                                                                                                                                                    roughly  years ago i closed out my accounts with jp morgan chase bank xxxx in order to close out an unsecured line of credit i had to pay it off i did that to close out my account roughly  payment when i closed out the accounts and now i get this late payment that showed up on my credit report after  years stating i owe close to  dollars i have never had any payment schedules or notifications in the  years because i paid it off upon calling them i am told i need to show proof i paid it off i would like to think that if indeed i had not paid it off  which i did  i would have immediately received late payment notifications i left chase bank because of some poor customer service and charges that were way out of line with the other banking institutions  ...                                                                                                                                                                                                                                                                                                                                                                                                                                                                                                                                                                                                                                                                                                                                                                                                                                                                                                                                                                                                                                                                                                                                                                                                                                                                                                                                                                                                                                                                                                                                                              roughly   year ago i close out -PRON- account with jp morgan chase bank xxxx in order to close out an unsecured line of credit i have to pay -PRON- off i do that to close out -PRON- account roughly   payment when i close out the account and now i get this late payment that show up on -PRON- credit report after   year state i owe close to   dollar i have never have any payment schedule or notification in the   year because i pay -PRON- off upon call -PRON- i be tell i need to show proof i pay -PRON- off i would like to think that if indeed i have not pay -PRON- off   which i do   i would have immediately receive late payment notification i leave chase bank because of some poor customer service and charge that be way out of line with the other banking institution\n",
              "\n",
              "[21072 rows x 3 columns]"
            ]
          },
          "metadata": {},
          "execution_count": 39
        }
      ]
    },
    {
      "cell_type": "markdown",
      "metadata": {
        "id": "_7Un1AElJrF2"
      },
      "source": [
        "## Exploratory data analysis to get familiar with the data.\n",
        "\n",
        "Write the code in this task to perform the following:\n",
        "\n",
        "*   Visualise the data according to the 'Complaint' character length\n",
        "*   Using a word cloud find the top 40 words by frequency among all the articles after processing the text\n",
        "*   Find the top unigrams,bigrams and trigrams by frequency among all the complaints after processing the text. ‘\n",
        "\n",
        "\n"
      ]
    },
    {
      "cell_type": "code",
      "metadata": {
        "id": "q-zaqJF6JrF2"
      },
      "source": [
        "# Write your code here to visualise the data according to the 'Complaint' character length\n",
        "\n"
      ],
      "execution_count": 40,
      "outputs": []
    },
    {
      "cell_type": "markdown",
      "metadata": {
        "id": "T9jD_6SeJrF3"
      },
      "source": [
        "#### Find the top 40 words by frequency among all the articles after processing the text."
      ]
    },
    {
      "cell_type": "code",
      "metadata": {
        "id": "QcfdvtfZJrF3",
        "colab": {
          "base_uri": "https://localhost:8080/",
          "height": 198
        },
        "outputId": "e8ad2444-d0de-404a-a0a0-f0d586f15908"
      },
      "source": [
        "#Using a word cloud find the top 40 words by frequency among all the articles after processing the text\n",
        "from wordcloud import WordCloud\n",
        "stoplist = set(stopwords.words(\"english\"))\n",
        "\n",
        "\n",
        "wordcloud = WordCloud(stopwords=stoplist,max_words=40).generate(str(df_eda.Complaints_Lemma))\n",
        "\n",
        "#print(wordcloud)\n",
        "fig = plt.figure(1)\n",
        "plt.imshow(wordcloud)\n",
        "plt.axis('off')\n",
        "plt.show();"
      ],
      "execution_count": 58,
      "outputs": [
        {
          "output_type": "display_data",
          "data": {
            "image/png": "[encoded data removed]",
            "text/plain": [
              "<Figure size 432x288 with 1 Axes>"
            ]
          },
          "metadata": {
            "needs_background": "light"
          }
        }
      ]
    },
    {
      "cell_type": "code",
      "metadata": {
        "id": "OkSmc3UaJrF4"
      },
      "source": [
        "#Removing -PRON- from the text corpus\n",
        "df_clean['Complaint_clean'] = df_clean['Complaints_spacy_Lemma'].str.replace('-PRON-', '')"
      ],
      "execution_count": 42,
      "outputs": []
    },
    {
      "cell_type": "code",
      "metadata": {
        "id": "V1DH0wKws_kS"
      },
      "source": [
        "#All -PRON- texts has been removed\n",
        "df_clean"
      ],
      "execution_count": null,
      "outputs": []
    },
    {
      "cell_type": "markdown",
      "metadata": {
        "id": "5DfCSbbmJrF4"
      },
      "source": [
        "#### Find the top unigrams,bigrams and trigrams by frequency among all the complaints after processing the text."
      ]
    },
    {
      "cell_type": "code",
      "metadata": {
        "id": "5mbk5DS5JrF4"
      },
      "source": [
        "#Write your code here to find the top 30 unigram frequency among the complaints in the cleaned datafram(df_clean). \n"
      ],
      "execution_count": 43,
      "outputs": []
    },
    {
      "cell_type": "code",
      "metadata": {
        "id": "YX7fedm1JrF8"
      },
      "source": [
        "#Print the top 10 words in the unigram frequency\n"
      ],
      "execution_count": 44,
      "outputs": []
    },
    {
      "cell_type": "code",
      "metadata": {
        "id": "aV7kD7w8JrF8"
      },
      "source": [
        "#Write your code here to find the top 30 bigram frequency among the complaints in the cleaned datafram(df_clean). \n"
      ],
      "execution_count": 45,
      "outputs": []
    },
    {
      "cell_type": "code",
      "metadata": {
        "id": "NPnMNIpyJrF9"
      },
      "source": [
        "#Print the top 10 words in the bigram frequency"
      ],
      "execution_count": 46,
      "outputs": []
    },
    {
      "cell_type": "code",
      "metadata": {
        "id": "Xkh7vtbtJrF-"
      },
      "source": [
        "#Write your code here to find the top 30 trigram frequency among the complaints in the cleaned datafram(df_clean). \n"
      ],
      "execution_count": 47,
      "outputs": []
    },
    {
      "cell_type": "code",
      "metadata": {
        "id": "REcVxNfvJrF-"
      },
      "source": [
        "#Print the top 10 words in the trigram frequency"
      ],
      "execution_count": 48,
      "outputs": []
    },
    {
      "cell_type": "markdown",
      "metadata": {
        "id": "yUXzFji0JrF_"
      },
      "source": [
        "## The personal details of customer has been masked in the dataset with xxxx. Let's remove the masked text as this will be of no use for our analysis"
      ]
    },
    {
      "cell_type": "code",
      "metadata": {
        "id": "wKda-a_IJrF_"
      },
      "source": [
        "df_clean['Complaint_clean'] = df_clean['Complaint_clean'].str.replace('xxxx','')"
      ],
      "execution_count": 49,
      "outputs": []
    },
    {
      "cell_type": "code",
      "metadata": {
        "id": "9UIFk8fQJrF_",
        "colab": {
          "base_uri": "https://localhost:8080/",
          "height": 1000
        },
        "outputId": "9e7e1cc0-d3ad-472a-cd26-f0439070667e"
      },
      "source": [
        "#All masked texts has been removed\n",
        "df_clean"
      ],
      "execution_count": 50,
      "outputs": [
        {
          "output_type": "execute_result",
          "data": {
            "text/html": [
              "<div>\n",
              "<style scoped>\n",
              "    .dataframe tbody tr th:only-of-type {\n",
              "        vertical-align: middle;\n",
              "    }\n",
              "\n",
              "    .dataframe tbody tr th {\n",
              "        vertical-align: top;\n",
              "    }\n",
              "\n",
              "    .dataframe thead th {\n",
              "        text-align: right;\n",
              "    }\n",
              "</style>\n",
              "<table border=\"1\" class=\"dataframe\">\n",
              "  <thead>\n",
              "    <tr style=\"text-align: right;\">\n",
              "      <th></th>\n",
              "      <th>complaint_what_happened</th>\n",
              "      <th>Complaints_Lemma</th>\n",
              "      <th>Complaints_spacy_Lemma</th>\n",
              "      <th>Complaint_clean</th>\n",
              "    </tr>\n",
              "  </thead>\n",
              "  <tbody>\n",
              "    <tr>\n",
              "      <th>1</th>\n",
              "      <td>good morning my name is xxxx xxxx and i appreciate it if you could help me put a stop to chase bank cardmember services \\nin  i wrote to chase asking for debt verification and what they sent me a statement which is not acceptable i am asking the bank to validate the debt instead i been receiving mail every month from them attempting to collect a debt \\ni have a right to know this information as a consumer \\n\\nchase account  xxxx xxxx xxxx xxxx thanks in advance for your help</td>\n",
              "      <td>good morning name xxxx xxxx appreciate could help put stop chase bank cardmember service wrote chase asking debt verification sent statement acceptable asking bank validate debt instead receiving mail every month attempting collect debt right know information consumer chase account xxxx xxxx xxxx xxxx thanks advance help</td>\n",
              "      <td>good morning -PRON- name be xxxx xxxx and i appreciate -PRON- if -PRON- could help -PRON- put a stop to chase bank cardmember service \\n in   i write to chase ask for debt verification and what -PRON- send -PRON- a statement which be not acceptable i be ask the bank to validate the debt instead i be receive mail every month from -PRON- attempt to collect a debt \\n i have a right to know this information as a consumer \\n\\n chase account   xxxx xxxx xxxx xxxx thank in advance for -PRON- help</td>\n",
              "      <td>good morning  name be   and i appreciate  if  could help  put a stop to chase bank cardmember service \\n in   i write to chase ask for debt verification and what  send  a statement which be not acceptable i be ask the bank to validate the debt instead i be receive mail every month from  attempt to collect a debt \\n i have a right to know this information as a consumer \\n\\n chase account       thank in advance for  help</td>\n",
              "    </tr>\n",
              "    <tr>\n",
              "      <th>2</th>\n",
              "      <td>i upgraded my xxxx xxxx card in  and was told by the agent who did the upgrade my anniversary date would not change it turned the agent was giving me the wrong information in order to upgrade the account xxxx   changed my anniversary date from xxxxxxxx to xxxxxxxx without my consent xxxx has the recording of the agent who was misled me</td>\n",
              "      <td>upgraded xxxx xxxx card told agent upgrade anniversary date would change turned agent giving wrong information order upgrade account xxxx changed anniversary date xxxxxxxx xxxxxxxx without consent xxxx recording agent misled</td>\n",
              "      <td>i upgrade -PRON- xxxx xxxx card in   and be tell by the agent who do the upgrade -PRON- anniversary date would not change -PRON- turn the agent be give -PRON- the wrong information in order to upgrade the account xxxx    change -PRON- anniversary date from xxxxxxxx to xxxxxxxx without -PRON- consent xxxx have the recording of the agent who be mislead -PRON-</td>\n",
              "      <td>i upgrade    card in   and be tell by the agent who do the upgrade  anniversary date would not change  turn the agent be give  the wrong information in order to upgrade the account     change  anniversary date from  to  without  consent  have the recording of the agent who be mislead</td>\n",
              "    </tr>\n",
              "    <tr>\n",
              "      <th>10</th>\n",
              "      <td>chase card was reported on  however fraudulent application have been submitted my identity without my consent to fraudulently obtain services do not extend credit without verifying the identity of the applicant</td>\n",
              "      <td>chase card reported however fraudulent application submitted identity without consent fraudulently obtain service extend credit without verifying identity applicant</td>\n",
              "      <td>chase card be report on   however fraudulent application have be submit -PRON- identity without -PRON- consent to fraudulently obtain service do not extend credit without verify the identity of the applicant</td>\n",
              "      <td>chase card be report on   however fraudulent application have be submit  identity without  consent to fraudulently obtain service do not extend credit without verify the identity of the applicant</td>\n",
              "    </tr>\n",
              "    <tr>\n",
              "      <th>11</th>\n",
              "      <td>on  while trying to book a xxxx  xxxx  ticket i came across an offer for  to be applied towards the ticket if i applied for a rewards card i put in my information for the offer and within less than a minute was notified via the screen that a decision could not be made i immediately contacted xxxx and was referred to chase bank i then immediately contacted chase bank within no more than  of getting the notification on the screen and i was told by the chase representative i spoke with that my application was denied but she could not state why i asked for more information about the xxxx  offer and she explained that even if i had been approved the credit offer only gets applied after the first account statement and could not be used to purchase the ticket i then explicitly told her i was glad i got denied and i was absolutely no longer interested in the account i asked that the application be withdrawn and the representative obliged this all happened no later than  after putting in the application on  notwithstanding my explicit request not to proceed with the application and contrary to what i was told by the chase representative chase did in fact go ahead to open a credit account in my name on  this is now being reported in my credit report and chase has refused to correct this information on my credit report even though they went ahead to process an application which i did not consent to and out of their error</td>\n",
              "      <td>trying book xxxx xxxx ticket came across offer applied towards ticket applied reward card put information offer within le minute notified via screen decision could made immediately contacted xxxx referred chase bank immediately contacted chase bank within getting notification screen told chase representative spoke application denied could state asked information xxxx offer explained even approved credit offer get applied first account statement could used purchase ticket explicitly told glad got denied absolutely longer interested account asked application withdrawn representative obliged happened later putting application notwithstanding explicit request proceed application contrary told chase representative chase fact go ahead open credit account name reported credit report chase refused correct information credit report even though went ahead process application consent error</td>\n",
              "      <td>on   while try to book a xxxx   xxxx   ticket i come across an offer for   to be apply towards the ticket if i apply for a reward card i put in -PRON- information for the offer and within less than a minute be notify via the screen that a decision could not be make i immediately contact xxxx and be refer to chase bank i then immediately contact chase bank within no more than   of get the notification on the screen and i be tell by the chase representative i speak with that -PRON- application be deny but -PRON- could not state why i ask for more information about the xxxx   offer and -PRON- explain that even if i have be approve the credit offer only get apply after the first account statement and could not be use to purchase the ticket i then explicitly tell -PRON- i be glad i get deny and i be absolutely no longer interested in the account i ask that the application be withdraw and the representative oblige this all happen no later than   after put in the application on   notwithstanding -PRON- explicit request not to proceed with the application and contrary to what i be tell by the chase representative chase do in fact go ahead to open a credit account in -PRON- name on   this be now be report in -PRON- credit report and chase have refuse to correct this information on -PRON- credit report even though -PRON- go ahead to process an application which i do not consent to and out of -PRON- error</td>\n",
              "      <td>on   while try to book a       ticket i come across an offer for   to be apply towards the ticket if i apply for a reward card i put in  information for the offer and within less than a minute be notify via the screen that a decision could not be make i immediately contact  and be refer to chase bank i then immediately contact chase bank within no more than   of get the notification on the screen and i be tell by the chase representative i speak with that  application be deny but  could not state why i ask for more information about the    offer and  explain that even if i have be approve the credit offer only get apply after the first account statement and could not be use to purchase the ticket i then explicitly tell  i be glad i get deny and i be absolutely no longer interested in the account i ask that the application be withdraw and the representative oblige this all happen no later than   after put in the application on   notwithstanding  explicit request not to proceed with the application and contrary to what i be tell by the chase representative chase do in fact go ahead to open a credit account in  name on   this be now be report in  credit report and chase have refuse to correct this information on  credit report even though  go ahead to process an application which i do not consent to and out of  error</td>\n",
              "    </tr>\n",
              "    <tr>\n",
              "      <th>14</th>\n",
              "      <td>my grand son give me check for  i deposit it into my chase account after fund clear my chase bank closed my account never paid me my money they said they need to speek with my grand son check was clear money was taking by my chase bank refuse to pay me my money my grand son called chase  times they told him i should call not him to verify the check owner he is out the country most the time  date happen  check number xxxx claim number is xxxx with chase</td>\n",
              "      <td>grand son give check deposit chase account fund clear chase bank closed account never paid money said need speek grand son check clear money taking chase bank refuse pay money grand son called chase time told call verify check owner country time date happen check number xxxx claim number xxxx chase</td>\n",
              "      <td>-PRON- grand son give -PRON- check for   i deposit -PRON- into -PRON- chase account after fund clear -PRON- chase bank close -PRON- account never pay -PRON- -PRON- money -PRON- say -PRON- need to speek with -PRON- grand son check be clear money be take by -PRON- chase bank refuse to pay -PRON- -PRON- money -PRON- grand son call chase   time -PRON- tell -PRON- i should call not -PRON- to verify the check owner -PRON- be out the country most the time   date happen   check number xxxx claim number be xxxx with chase</td>\n",
              "      <td>grand son give  check for   i deposit  into  chase account after fund clear  chase bank close  account never pay   money  say  need to speek with  grand son check be clear money be take by  chase bank refuse to pay   money  grand son call chase   time  tell  i should call not  to verify the check owner  be out the country most the time   date happen   check number  claim number be  with chase</td>\n",
              "    </tr>\n",
              "    <tr>\n",
              "      <th>...</th>\n",
              "      <td>...</td>\n",
              "      <td>...</td>\n",
              "      <td>...</td>\n",
              "      <td>...</td>\n",
              "    </tr>\n",
              "    <tr>\n",
              "      <th>78303</th>\n",
              "      <td>after being a chase card customer for well over a decade was offered multiple solicitations for acquiring new credit cards with chase  all with bonus airline miles and hotel points was approved for all    new cards with no annual fee for  year after less than  months with payment always paid as agreed chase closed all my cards one of my    approved new cards was never activated but was sent to me\\n\\nchase has done harm to my credit has charged me an annual fee even though they cancelled my account failed to credit my points for both airlines and hotel failed to credit up to  for xxxx enrollment and failed to credit airline charge as agreed upon</td>\n",
              "      <td>chase card customer well decade offered multiple solicitation acquiring new credit card chase bonus airline mile hotel point approved new card annual fee year le month payment always paid agreed chase closed card one approved new card never activated sent chase done harm credit charged annual fee even though cancelled account failed credit point airline hotel failed credit xxxx enrollment failed credit airline charge agreed upon</td>\n",
              "      <td>after be a chase card customer for well over a decade be offer multiple solicitation for acquire new credit card with chase   all with bonus airline mile and hotel point be approve for all     new card with no annual fee for   year after less than   month with payment always pay as agree chase close all -PRON- card one of -PRON-     approve new card be never activate but be send to -PRON- \\n\\n chase have do harm to -PRON- credit have charge -PRON- an annual fee even though -PRON- cancel -PRON- account fail to credit -PRON- point for both airline and hotel fail to credit up to   for xxxx enrollment and fail to credit airline charge as agree upon</td>\n",
              "      <td>after be a chase card customer for well over a decade be offer multiple solicitation for acquire new credit card with chase   all with bonus airline mile and hotel point be approve for all     new card with no annual fee for   year after less than   month with payment always pay as agree chase close all  card one of      approve new card be never activate but be send to  \\n\\n chase have do harm to  credit have charge  an annual fee even though  cancel  account fail to credit  point for both airline and hotel fail to credit up to   for  enrollment and fail to credit airline charge as agree upon</td>\n",
              "    </tr>\n",
              "    <tr>\n",
              "      <th>78309</th>\n",
              "      <td>on wednesday xxxxxxxx i called chas my xxxx xxxx visa credit card provider and asked how to make a claim under their purchase protection benefit on xxxxxxxx i purchased three high school textbooks for my xxxx year old daughter because she transferred to a new school all three books were damaged when a water bottle in her backpack broke the chase representative assured me the textbooks would be covered and instructed me to file a claim at xxxx i immediately went to the website and filed the claim including uploading all of the requested paperwork which included a copy of my credit card statement copies of the three receipts and photographic evidence of the damage the website even had  books  as one of the catagories i could list as the type of item they cover and that i could make a claim on after following up repeatedly on my claim since the insurance provider failed to  review my information and contact me within  business days to outline the next steps of the process  as outlined in an email i received acknowledging my claim submission i called to complain the representative said claims are not looked at by an examiner  for eight to ten days  and then it would take  two days to actually review the claim  i responded that this information was contradictory to the information provided in writing in the email xxxx sent to me and she said that she is not an adjuster and that is how it works i then asked to speak with an adjuster and she agreed to connect me to one i was then put on hold and when she returned she said my file had  just been updated while i was on hold and that the claim was being denied because textbooks have finite lives and are undergo revision after courses end  i explained that my daughter s course had not ended and that i was told specifically by chase that my textbook purchases would be covered and was again told they were refusing my claim  by the time the call ended i received an email stating that my claim status had been updated and was being denied i find this completely outrageous and borderline fraudulent</td>\n",
              "      <td>wednesday xxxxxxxx called chas xxxx xxxx visa credit card provider asked make claim purchase protection benefit xxxxxxxx purchased three high school textbook xxxx year old daughter transferred new school three book damaged water bottle backpack broke chase representative assured textbook would covered instructed file claim xxxx immediately went website filed claim including uploading requested paperwork included copy credit card statement copy three receipt photographic evidence damage website even book one catagories could list type item cover could make claim following repeatedly claim since insurance provider failed review information contact within business day outline next step process outlined email received acknowledging claim submission called complain representative said claim looked examiner eight ten day would take two day actually review claim responded information contradictory information provided writing email xxxx sent said adjuster work asked speak adjuster agreed connect one put hold returned said file updated hold claim denied textbook finite life undergo revision course end explained daughter course ended told specifically chase textbook purchase would covered told refusing claim time call ended received email stating claim status updated denied find completely outrageous borderline fraudulent</td>\n",
              "      <td>on wednesday xxxxxxxx i call chas -PRON- xxxx xxxx visa credit card provider and ask how to make a claim under -PRON- purchase protection benefit on xxxxxxxx i purchase three high school textbook for -PRON- xxxx year old daughter because -PRON- transfer to a new school all three book be damage when a water bottle in -PRON- backpack break the chase representative assure -PRON- the textbook would be cover and instruct -PRON- to file a claim at xxxx i immediately go to the website and file the claim include upload all of the request paperwork which include a copy of -PRON- credit card statement copy of the three receipt and photographic evidence of the damage the website even have   book   as one of the catagorie i could list as the type of item -PRON- cover and that i could make a claim on after follow up repeatedly on -PRON- claim since the insurance provider fail to   review -PRON- information and contact -PRON- within   business day to outline the next step of the process   as outline in an email i receive acknowledge -PRON- claim submission i call to complain the representative say claim be not look at by an examiner   for eight to ten day   and then -PRON- would take   two day to actually review the claim   i respond that this information be contradictory to the information provide in writing in the email xxxx send to -PRON- and -PRON- say that -PRON- be not an adjuster and that be how -PRON- work i then ask to speak with an adjuster and -PRON- agree to connect -PRON- to one i be then put on hold and when -PRON- return -PRON- say -PRON- file have   just be update while i be on hold and that the claim be be deny because textbook have finite life and be undergo revision after course end   i explain that -PRON- daughter s course have not end and that i be tell specifically by chase that -PRON- textbook purchase would be cover and be again tell -PRON- be refuse -PRON- claim   by the time the call end i receive an email state that -PRON- claim status have be update and be be deny i find this completely outrageous and borderline fraudulent</td>\n",
              "      <td>on wednesday  i call chas    visa credit card provider and ask how to make a claim under  purchase protection benefit on  i purchase three high school textbook for   year old daughter because  transfer to a new school all three book be damage when a water bottle in  backpack break the chase representative assure  the textbook would be cover and instruct  to file a claim at  i immediately go to the website and file the claim include upload all of the request paperwork which include a copy of  credit card statement copy of the three receipt and photographic evidence of the damage the website even have   book   as one of the catagorie i could list as the type of item  cover and that i could make a claim on after follow up repeatedly on  claim since the insurance provider fail to   review  information and contact  within   business day to outline the next step of the process   as outline in an email i receive acknowledge  claim submission i call to complain the representative say claim be not look at by an examiner   for eight to ten day   and then  would take   two day to actually review the claim   i respond that this information be contradictory to the information provide in writing in the email  send to  and  say that  be not an adjuster and that be how  work i then ask to speak with an adjuster and  agree to connect  to one i be then put on hold and when  return  say  file have   just be update while i be on hold and that the claim be be deny because textbook have finite life and be undergo revision after course end   i explain that  daughter s course have not end and that i be tell specifically by chase that  textbook purchase would be cover and be again tell  be refuse  claim   by the time the call end i receive an email state that  claim status have be update and be be deny i find this completely outrageous and borderline fraudulent</td>\n",
              "    </tr>\n",
              "    <tr>\n",
              "      <th>78310</th>\n",
              "      <td>i am not familiar with xxxx pay and did not understand the great risk this provides to consumers i believed this to be safe as it was through my chase bank app i have been with chase for almost  years and trust their mobile banking and now am sadly regretful i am being told to deal with the merchant except the merchant has refused to answer my inquiries and now shut down communication the website of the said merchant looks entirely legitamite and is even using the faces of highly successful brands with individuals linked to their social media without their consent in performing research of the phone number and other associated information available through pi it is very clear this merchant is continually creating new account title holders to perpetuate this cycle of fraud furthermore as this is a non fixed voip being used i believe they are fraudulently using the identity of the real xxxx xxxx chase bank told me they wouldnt even investigate report this to xxxx or allow me to file a report or take any potential recourse for the matter there isnt even a protocol in place to address this issue yet the chase mobile app verbiage makes a point to deceptively position this app as under the branch of chase banking service and as such imply a degree of entitlement to its customer service protection protocols chase has your back which reads on the very same link as the xxxx tab  is most certainly not true this places consumers at risk when using this mobile service and does not flag the concern of chase in the slightest at minimum the risk of using xxxx on your mobile banking app must realistically be made aware to the public as it stands to be potentially devastating i have plans to file reports with all corresponding authorities as well as notify and contact the individual whose identity is being misused to inform him i also intend to urge my neighbor who works in television that the news network should perhaps present the risk of using xxxx and xxxx integrated banking apps to the public i understand fraud and scamming are overwhelming rampant but a banking mogul such as chase not having any recourse of action is simply a risk that needs to be disclosed more throughly i would not have clicked on the to link to the extent i did if i would have been better informed</td>\n",
              "      <td>familiar xxxx pay understand great risk provides consumer believed safe chase bank app chase almost year trust mobile banking sadly regretful told deal merchant except merchant refused answer inquiry shut communication website said merchant look entirely legitamite even using face highly successful brand individual linked social medium without consent performing research phone number associated information available pi clear merchant continually creating new account title holder perpetuate cycle fraud furthermore non fixed voip used believe fraudulently using identity real xxxx xxxx chase bank told wouldnt even investigate report xxxx allow file report take potential recourse matter isnt even protocol place address issue yet chase mobile app verbiage make point deceptively position app branch chase banking service imply degree entitlement customer service protection protocol chase back read link xxxx tab certainly true place consumer risk using mobile service flag concern chase slightest minimum risk using xxxx mobile banking app must realistically made aware public stand potentially devastating plan file report corresponding authority well notify contact individual whose identity misused inform also intend urge neighbor work television news network perhaps present risk using xxxx xxxx integrated banking apps public understand fraud scamming overwhelming rampant banking mogul chase recourse action simply risk need disclosed throughly would clicked link extent would better informed</td>\n",
              "      <td>i be not familiar with xxxx pay and do not understand the great risk this provide to consumer i believe this to be safe as -PRON- be through -PRON- chase bank app i have be with chase for almost   year and trust -PRON- mobile banking and now be sadly regretful i be be tell to deal with the merchant except the merchant have refuse to answer -PRON- inquiry and now shut down communication the website of the say merchant look entirely legitamite and be even use the face of highly successful brand with individual link to -PRON- social medium without -PRON- consent in perform research of the phone number and other associate information available through pi -PRON- be very clear this merchant be continually create new account title holder to perpetuate this cycle of fraud furthermore as this be a non fixed voip be use i believe -PRON- be fraudulently use the identity of the real xxxx xxxx chase bank tell -PRON- -PRON- would not even investigate report this to xxxx or allow -PRON- to file a report or take any potential recourse for the matter there be not even a protocol in place to address this issue yet the chase mobile app verbiage make a point to deceptively position this app as under the branch of chase banking service and as such imply a degree of entitlement to -PRON- customer service protection protocol chase have -PRON- back which read on the very same link as the xxxx tab   be most certainly not true this place consumer at risk when use this mobile service and do not flag the concern of chase in the slight at minimum the risk of use xxxx on -PRON- mobile banking app must realistically be make aware to the public as -PRON- stand to be potentially devastating i have plan to file report with all correspond authority as well as notify and contact the individual whose identity be be misuse to inform -PRON- i also intend to urge -PRON- neighbor who work in television that the news network should perhaps present the risk of use xxxx and xxxx integrate banking app to the public i understand fraud and scamming be overwhelm rampant but a banking mogul such as chase not have any recourse of action be simply a risk that need to be disclose more throughly i would not have click on the to link to the extent i do if i would have be better inform</td>\n",
              "      <td>i be not familiar with  pay and do not understand the great risk this provide to consumer i believe this to be safe as  be through  chase bank app i have be with chase for almost   year and trust  mobile banking and now be sadly regretful i be be tell to deal with the merchant except the merchant have refuse to answer  inquiry and now shut down communication the website of the say merchant look entirely legitamite and be even use the face of highly successful brand with individual link to  social medium without  consent in perform research of the phone number and other associate information available through pi  be very clear this merchant be continually create new account title holder to perpetuate this cycle of fraud furthermore as this be a non fixed voip be use i believe  be fraudulently use the identity of the real   chase bank tell   would not even investigate report this to  or allow  to file a report or take any potential recourse for the matter there be not even a protocol in place to address this issue yet the chase mobile app verbiage make a point to deceptively position this app as under the branch of chase banking service and as such imply a degree of entitlement to  customer service protection protocol chase have  back which read on the very same link as the  tab   be most certainly not true this place consumer at risk when use this mobile service and do not flag the concern of chase in the slight at minimum the risk of use  on  mobile banking app must realistically be make aware to the public as  stand to be potentially devastating i have plan to file report with all correspond authority as well as notify and contact the individual whose identity be be misuse to inform  i also intend to urge  neighbor who work in television that the news network should perhaps present the risk of use  and  integrate banking app to the public i understand fraud and scamming be overwhelm rampant but a banking mogul such as chase not have any recourse of action be simply a risk that need to be disclose more throughly i would not have click on the to link to the extent i do if i would have be better inform</td>\n",
              "    </tr>\n",
              "    <tr>\n",
              "      <th>78311</th>\n",
              "      <td>i have had flawless credit for  yrs ive had chase credit cards  chase freedom  specifically since xxxx with no problems ever ive done many balance transfers in my life so i have plenty of experience i recently did a balance transfer with chase freedom for   did many with other chase cards but apparently not  freeedom   when i got my first bill my minimum payment was  i was shocked i immediately called on xxxxxxxx the representative told me that the min payment was so high bc they were making me pay the  balance transfer fee  up front but my future payments would be around    of total balance  which is standard and the rate they advertise  i went to pay the next payment on xxxxxxxx  was once again shocked to see my minimum payment was  i paid it but i have been trying to work this out with chase ever since apparently the representative was wrong  i am actually expected to pay   instead of the standard   they normally charge bc that was written in my  user agreement  paperwork back in xxxxxxxx  years ago they currently charge   to everyone else in the world my other cards including chase are all   this  is an unreasonable amt to expect someone to pay for  credit card i have kids  many other bills to pay they never warned me they were so  off the charts  with their minimum payment percentage  except for my original paperwork in xxxxxxxx  they offer everyone else   terms they change their  terms  anytime it benefits them but wont budge to lower it to make this payment more affordable  reasonable so i also asked them  as soon as i found this out  to refund my  transfer fee so i could use it to transfer the balance to a different card with a more reasonable minimum payment they refused i also asked if they would transfer to my chase slate card which has   min pmt they also refused they will not work with me at all i am a responsible working person i would like to preserve my good credit i could easily transfer again to a different card but id have to pay another lump sum of  again</td>\n",
              "      <td>flawless credit yr ive chase credit card chase freedom specifically since xxxx problem ever ive done many balance transfer life plenty experience recently balance transfer chase freedom many chase card apparently freeedom got first bill minimum payment shocked immediately called xxxxxxxx representative told min payment high bc making pay balance transfer fee front future payment would around total balance standard rate advertise went pay next payment xxxxxxxx shocked see minimum payment paid trying work chase ever since apparently representative wrong actually expected pay instead standard normally charge bc written user agreement paperwork back xxxxxxxx year ago currently charge everyone else world card including chase unreasonable amt expect someone pay credit card kid many bill pay never warned chart minimum payment percentage except original paperwork xxxxxxxx offer everyone else term change term anytime benefit wont budge lower make payment affordable reasonable also asked soon found refund transfer fee could use transfer balance different card reasonable minimum payment refused also asked would transfer chase slate card min pmt also refused work responsible working person would like preserve good credit could easily transfer different card id pay another lump sum</td>\n",
              "      <td>i have have flawless credit for   yrs -PRON- have have chase credit card   chase freedom   specifically since xxxx with no problem ever -PRON- have do many balance transfer in -PRON- life so i have plenty of experience i recently do a balance transfer with chase freedom for    do many with other chase card but apparently not   freeedom    when i get -PRON- first bill -PRON- minimum payment be   i be shock i immediately call on xxxxxxxx the representative tell -PRON- that the min payment be so high bc -PRON- be make -PRON- pay the   balance transfer fee   up front but -PRON- future payment would be around     of total balance   which be standard and the rate -PRON- advertise   i go to pay the next payment on xxxxxxxx   be once again shock to see -PRON- minimum payment be   i pay -PRON- but i have be try to work this out with chase ever since apparently the representative be wrong   i be actually expect to pay    instead of the standard    -PRON- normally charge bc that be write in -PRON-   user agreement   paperwork back in xxxxxxxx   year ago -PRON- currently charge    to everyone else in the world -PRON- other card include chase be all    this   be an unreasonable amt to expect someone to pay for   credit card i have kid   many other bill to pay -PRON- never warn -PRON- -PRON- be so   off the chart   with -PRON- minimum payment percentage   except for -PRON- original paperwork in xxxxxxxx   -PRON- offer everyone else    term -PRON- change -PRON-   term   anytime -PRON- benefit -PRON- but will not budge to lower -PRON- to make this payment more affordable   reasonable so i also ask -PRON-   as soon as i find this out   to refund -PRON-   transfer fee so i could use -PRON- to transfer the balance to a different card with a more reasonable minimum payment -PRON- refuse i also ask if -PRON- would transfer to -PRON- chase slate card which have    min pmt -PRON- also refuse -PRON- will not work with -PRON- at all i be a responsible work person i would like to preserve -PRON- good credit i could easily transfer again to a different card but -PRON- would have to pay another lump sum of   again</td>\n",
              "      <td>i have have flawless credit for   yrs  have have chase credit card   chase freedom   specifically since  with no problem ever  have do many balance transfer in  life so i have plenty of experience i recently do a balance transfer with chase freedom for    do many with other chase card but apparently not   freeedom    when i get  first bill  minimum payment be   i be shock i immediately call on  the representative tell  that the min payment be so high bc  be make  pay the   balance transfer fee   up front but  future payment would be around     of total balance   which be standard and the rate  advertise   i go to pay the next payment on    be once again shock to see  minimum payment be   i pay  but i have be try to work this out with chase ever since apparently the representative be wrong   i be actually expect to pay    instead of the standard     normally charge bc that be write in    user agreement   paperwork back in    year ago  currently charge    to everyone else in the world  other card include chase be all    this   be an unreasonable amt to expect someone to pay for   credit card i have kid   many other bill to pay  never warn   be so   off the chart   with  minimum payment percentage   except for  original paperwork in     offer everyone else    term  change    term   anytime  benefit  but will not budge to lower  to make this payment more affordable   reasonable so i also ask    as soon as i find this out   to refund    transfer fee so i could use  to transfer the balance to a different card with a more reasonable minimum payment  refuse i also ask if  would transfer to  chase slate card which have    min pmt  also refuse  will not work with  at all i be a responsible work person i would like to preserve  good credit i could easily transfer again to a different card but  would have to pay another lump sum of   again</td>\n",
              "    </tr>\n",
              "    <tr>\n",
              "      <th>78312</th>\n",
              "      <td>roughly  years ago i closed out my accounts with jp morgan chase bank xxxx in order to close out an unsecured line of credit i had to pay it off i did that to close out my account roughly  payment when i closed out the accounts and now i get this late payment that showed up on my credit report after  years stating i owe close to  dollars i have never had any payment schedules or notifications in the  years because i paid it off upon calling them i am told i need to show proof i paid it off i would like to think that if indeed i had not paid it off  which i did  i would have immediately received late payment notifications i left chase bank because of some poor customer service and charges that were way out of line with the other banking institutions</td>\n",
              "      <td>roughly year ago closed account jp morgan chase bank xxxx order close unsecured line credit pay close account roughly payment closed account get late payment showed credit report year stating owe close dollar never payment schedule notification year paid upon calling told need show proof paid would like think indeed paid would immediately received late payment notification left chase bank poor customer service charge way line banking institution</td>\n",
              "      <td>roughly   year ago i close out -PRON- account with jp morgan chase bank xxxx in order to close out an unsecured line of credit i have to pay -PRON- off i do that to close out -PRON- account roughly   payment when i close out the account and now i get this late payment that show up on -PRON- credit report after   year state i owe close to   dollar i have never have any payment schedule or notification in the   year because i pay -PRON- off upon call -PRON- i be tell i need to show proof i pay -PRON- off i would like to think that if indeed i have not pay -PRON- off   which i do   i would have immediately receive late payment notification i leave chase bank because of some poor customer service and charge that be way out of line with the other banking institution</td>\n",
              "      <td>roughly   year ago i close out  account with jp morgan chase bank  in order to close out an unsecured line of credit i have to pay  off i do that to close out  account roughly   payment when i close out the account and now i get this late payment that show up on  credit report after   year state i owe close to   dollar i have never have any payment schedule or notification in the   year because i pay  off upon call  i be tell i need to show proof i pay  off i would like to think that if indeed i have not pay  off   which i do   i would have immediately receive late payment notification i leave chase bank because of some poor customer service and charge that be way out of line with the other banking institution</td>\n",
              "    </tr>\n",
              "  </tbody>\n",
              "</table>\n",
              "<p>21072 rows × 4 columns</p>\n",
              "</div>"
            ],
            "text/plain": [
              "                                                                                                                                                                                                                                                                                                                                                                                                                                                                                                                                                                                                                                                                                                                                                                                                                                                                                                                                                                                                                                                                                                                                                                                                                                                                                                                                                                                                                                                                                                                                                                                                                                                                                                                                                                                                                                                                                                                                                                                                                                                                                                                                                                                                                                                                                                                                                                        complaint_what_happened  ...                                                                                                                                                                                                                                                                                                                                                                                                                                                                                                                                                                                                                                                                                                                                                                                                                                                                                                                                                                                                                                                                                                                                                                                                                                                                                                                                                                                                                                                                                                                                                                                                                                                                                                                                                                                                                                                                                                                                                                                                                                                                                                                                                                                                            Complaint_clean\n",
              "1                                                                                                                                                                                                                                                                                                                                                                                                                                                                                                                                                                                                                                                                                                                                                                                                                                                                                                                                                                                                                                                                                                                                                                                                                                                                                                                                                                                                                                                                                                                                                                                                                                                                                                                                                                                                                                                                                               good morning my name is xxxx xxxx and i appreciate it if you could help me put a stop to chase bank cardmember services \\nin  i wrote to chase asking for debt verification and what they sent me a statement which is not acceptable i am asking the bank to validate the debt instead i been receiving mail every month from them attempting to collect a debt \\ni have a right to know this information as a consumer \\n\\nchase account  xxxx xxxx xxxx xxxx thanks in advance for your help  ...                                                                                                                                                                                                                                                                                                                                                                                                                                                                                                                                                                                                                                                                                                                                                                                                                                                                                                                                                                                                                                                                                                                                                                                                                                                                                                                                                                                                                                                                                                                                                                                                                                                                                                                                                                                     good morning  name be   and i appreciate  if  could help  put a stop to chase bank cardmember service \\n in   i write to chase ask for debt verification and what  send  a statement which be not acceptable i be ask the bank to validate the debt instead i be receive mail every month from  attempt to collect a debt \\n i have a right to know this information as a consumer \\n\\n chase account       thank in advance for  help\n",
              "2                                                                                                                                                                                                                                                                                                                                                                                                                                                                                                                                                                                                                                                                                                                                                                                                                                                                                                                                                                                                                                                                                                                                                                                                                                                                                                                                                                                                                                                                                                                                                                                                                                                                                                                                                                                                                                                                                                                                                                                                                                             i upgraded my xxxx xxxx card in  and was told by the agent who did the upgrade my anniversary date would not change it turned the agent was giving me the wrong information in order to upgrade the account xxxx   changed my anniversary date from xxxxxxxx to xxxxxxxx without my consent xxxx has the recording of the agent who was misled me  ...                                                                                                                                                                                                                                                                                                                                                                                                                                                                                                                                                                                                                                                                                                                                                                                                                                                                                                                                                                                                                                                                                                                                                                                                                                                                                                                                                                                                                                                                                                                                                                                                                                                                                                                                                                                                                                                                                                                              i upgrade    card in   and be tell by the agent who do the upgrade  anniversary date would not change  turn the agent be give  the wrong information in order to upgrade the account     change  anniversary date from  to  without  consent  have the recording of the agent who be mislead \n",
              "10                                                                                                                                                                                                                                                                                                                                                                                                                                                                                                                                                                                                                                                                                                                                                                                                                                                                                                                                                                                                                                                                                                                                                                                                                                                                                                                                                                                                                                                                                                                                                                                                                                                                                                                                                                                                                                                                                                                                                                                                                                                                                                                                                                           chase card was reported on  however fraudulent application have been submitted my identity without my consent to fraudulently obtain services do not extend credit without verifying the identity of the applicant  ...                                                                                                                                                                                                                                                                                                                                                                                                                                                                                                                                                                                                                                                                                                                                                                                                                                                                                                                                                                                                                                                                                                                                                                                                                                                                                                                                                                                                                                                                                                                                                                                                                                                                                                                                                                                                                                                                                                                                                                                                                        chase card be report on   however fraudulent application have be submit  identity without  consent to fraudulently obtain service do not extend credit without verify the identity of the applicant\n",
              "11                                                                                                                                                                                                                                                                                                                                                                                                                                                                                                                                                                                                                                                                                                                                                                                                                                                                                                    on  while trying to book a xxxx  xxxx  ticket i came across an offer for  to be applied towards the ticket if i applied for a rewards card i put in my information for the offer and within less than a minute was notified via the screen that a decision could not be made i immediately contacted xxxx and was referred to chase bank i then immediately contacted chase bank within no more than  of getting the notification on the screen and i was told by the chase representative i spoke with that my application was denied but she could not state why i asked for more information about the xxxx  offer and she explained that even if i had been approved the credit offer only gets applied after the first account statement and could not be used to purchase the ticket i then explicitly told her i was glad i got denied and i was absolutely no longer interested in the account i asked that the application be withdrawn and the representative obliged this all happened no later than  after putting in the application on  notwithstanding my explicit request not to proceed with the application and contrary to what i was told by the chase representative chase did in fact go ahead to open a credit account in my name on  this is now being reported in my credit report and chase has refused to correct this information on my credit report even though they went ahead to process an application which i did not consent to and out of their error  ...                                                                                                                                                                                                                                                                                                                                                                                                                                                                                                                                                                                                                                                                                                                                                                                                                                    on   while try to book a       ticket i come across an offer for   to be apply towards the ticket if i apply for a reward card i put in  information for the offer and within less than a minute be notify via the screen that a decision could not be make i immediately contact  and be refer to chase bank i then immediately contact chase bank within no more than   of get the notification on the screen and i be tell by the chase representative i speak with that  application be deny but  could not state why i ask for more information about the    offer and  explain that even if i have be approve the credit offer only get apply after the first account statement and could not be use to purchase the ticket i then explicitly tell  i be glad i get deny and i be absolutely no longer interested in the account i ask that the application be withdraw and the representative oblige this all happen no later than   after put in the application on   notwithstanding  explicit request not to proceed with the application and contrary to what i be tell by the chase representative chase do in fact go ahead to open a credit account in  name on   this be now be report in  credit report and chase have refuse to correct this information on  credit report even though  go ahead to process an application which i do not consent to and out of  error\n",
              "14                                                                                                                                                                                                                                                                                                                                                                                                                                                                                                                                                                                                                                                                                                                                                                                                                                                                                                                                                                                                                                                                                                                                                                                                                                                                                                                                                                                                                                                                                                                                                                                                                                                                                                                                                                                                                                                                                                                     my grand son give me check for  i deposit it into my chase account after fund clear my chase bank closed my account never paid me my money they said they need to speek with my grand son check was clear money was taking by my chase bank refuse to pay me my money my grand son called chase  times they told him i should call not him to verify the check owner he is out the country most the time  date happen  check number xxxx claim number is xxxx with chase  ...                                                                                                                                                                                                                                                                                                                                                                                                                                                                                                                                                                                                                                                                                                                                                                                                                                                                                                                                                                                                                                                                                                                                                                                                                                                                                                                                                                                                                                                                                                                                                                                                                                                                                                                                                                                                                grand son give  check for   i deposit  into  chase account after fund clear  chase bank close  account never pay   money  say  need to speek with  grand son check be clear money be take by  chase bank refuse to pay   money  grand son call chase   time  tell  i should call not  to verify the check owner  be out the country most the time   date happen   check number  claim number be  with chase\n",
              "...                                                                                                                                                                                                                                                                                                                                                                                                                                                                                                                                                                                                                                                                                                                                                                                                                                                                                                                                                                                                                                                                                                                                                                                                                                                                                                                                                                                                                                                                                                                                                                                                                                                                                                                                                                                                                                                                                                                                                                                                                                                                                                                                                                                                                                                                                                                                                                                         ...  ...                                                                                                                                                                                                                                                                                                                                                                                                                                                                                                                                                                                                                                                                                                                                                                                                                                                                                                                                                                                                                                                                                                                                                                                                                                                                                                                                                                                                                                                                                                                                                                                                                                                                                                                                                                                                                                                                                                                                                                                                                                                                                                                                                                                                                        ...\n",
              "78303                                                                                                                                                                                                                                                                                                                                                                                                                                                                                                                                                                                                                                                                                                                                                                                                                                                                                                                                                                                                                                                                                                                                                                                                                                                                                                                                                                                                                                                                                                                                                                                                                                                                                                              after being a chase card customer for well over a decade was offered multiple solicitations for acquiring new credit cards with chase  all with bonus airline miles and hotel points was approved for all    new cards with no annual fee for  year after less than  months with payment always paid as agreed chase closed all my cards one of my    approved new cards was never activated but was sent to me\\n\\nchase has done harm to my credit has charged me an annual fee even though they cancelled my account failed to credit my points for both airlines and hotel failed to credit up to  for xxxx enrollment and failed to credit airline charge as agreed upon  ...                                                                                                                                                                                                                                                                                                                                                                                                                                                                                                                                                                                                                                                                                                                                                                                                                                                                                                                                                                                                                                                                                                                                                                                                                                                                                                                                                                                                                                                                                                                                                                                                   after be a chase card customer for well over a decade be offer multiple solicitation for acquire new credit card with chase   all with bonus airline mile and hotel point be approve for all     new card with no annual fee for   year after less than   month with payment always pay as agree chase close all  card one of      approve new card be never activate but be send to  \\n\\n chase have do harm to  credit have charge  an annual fee even though  cancel  account fail to credit  point for both airline and hotel fail to credit up to   for  enrollment and fail to credit airline charge as agree upon\n",
              "78309                                                                                                                                                                                                                                       on wednesday xxxxxxxx i called chas my xxxx xxxx visa credit card provider and asked how to make a claim under their purchase protection benefit on xxxxxxxx i purchased three high school textbooks for my xxxx year old daughter because she transferred to a new school all three books were damaged when a water bottle in her backpack broke the chase representative assured me the textbooks would be covered and instructed me to file a claim at xxxx i immediately went to the website and filed the claim including uploading all of the requested paperwork which included a copy of my credit card statement copies of the three receipts and photographic evidence of the damage the website even had  books  as one of the catagories i could list as the type of item they cover and that i could make a claim on after following up repeatedly on my claim since the insurance provider failed to  review my information and contact me within  business days to outline the next steps of the process  as outlined in an email i received acknowledging my claim submission i called to complain the representative said claims are not looked at by an examiner  for eight to ten days  and then it would take  two days to actually review the claim  i responded that this information was contradictory to the information provided in writing in the email xxxx sent to me and she said that she is not an adjuster and that is how it works i then asked to speak with an adjuster and she agreed to connect me to one i was then put on hold and when she returned she said my file had  just been updated while i was on hold and that the claim was being denied because textbooks have finite lives and are undergo revision after courses end  i explained that my daughter s course had not ended and that i was told specifically by chase that my textbook purchases would be covered and was again told they were refusing my claim  by the time the call ended i received an email stating that my claim status had been updated and was being denied i find this completely outrageous and borderline fraudulent  ...                                                                                                                                                                                                                                                                               on wednesday  i call chas    visa credit card provider and ask how to make a claim under  purchase protection benefit on  i purchase three high school textbook for   year old daughter because  transfer to a new school all three book be damage when a water bottle in  backpack break the chase representative assure  the textbook would be cover and instruct  to file a claim at  i immediately go to the website and file the claim include upload all of the request paperwork which include a copy of  credit card statement copy of the three receipt and photographic evidence of the damage the website even have   book   as one of the catagorie i could list as the type of item  cover and that i could make a claim on after follow up repeatedly on  claim since the insurance provider fail to   review  information and contact  within   business day to outline the next step of the process   as outline in an email i receive acknowledge  claim submission i call to complain the representative say claim be not look at by an examiner   for eight to ten day   and then  would take   two day to actually review the claim   i respond that this information be contradictory to the information provide in writing in the email  send to  and  say that  be not an adjuster and that be how  work i then ask to speak with an adjuster and  agree to connect  to one i be then put on hold and when  return  say  file have   just be update while i be on hold and that the claim be be deny because textbook have finite life and be undergo revision after course end   i explain that  daughter s course have not end and that i be tell specifically by chase that  textbook purchase would be cover and be again tell  be refuse  claim   by the time the call end i receive an email state that  claim status have be update and be be deny i find this completely outrageous and borderline fraudulent\n",
              "78310  i am not familiar with xxxx pay and did not understand the great risk this provides to consumers i believed this to be safe as it was through my chase bank app i have been with chase for almost  years and trust their mobile banking and now am sadly regretful i am being told to deal with the merchant except the merchant has refused to answer my inquiries and now shut down communication the website of the said merchant looks entirely legitamite and is even using the faces of highly successful brands with individuals linked to their social media without their consent in performing research of the phone number and other associated information available through pi it is very clear this merchant is continually creating new account title holders to perpetuate this cycle of fraud furthermore as this is a non fixed voip being used i believe they are fraudulently using the identity of the real xxxx xxxx chase bank told me they wouldnt even investigate report this to xxxx or allow me to file a report or take any potential recourse for the matter there isnt even a protocol in place to address this issue yet the chase mobile app verbiage makes a point to deceptively position this app as under the branch of chase banking service and as such imply a degree of entitlement to its customer service protection protocols chase has your back which reads on the very same link as the xxxx tab  is most certainly not true this places consumers at risk when using this mobile service and does not flag the concern of chase in the slightest at minimum the risk of using xxxx on your mobile banking app must realistically be made aware to the public as it stands to be potentially devastating i have plans to file reports with all corresponding authorities as well as notify and contact the individual whose identity is being misused to inform him i also intend to urge my neighbor who works in television that the news network should perhaps present the risk of using xxxx and xxxx integrated banking apps to the public i understand fraud and scamming are overwhelming rampant but a banking mogul such as chase not having any recourse of action is simply a risk that needs to be disclosed more throughly i would not have clicked on the to link to the extent i did if i would have been better informed  ...  i be not familiar with  pay and do not understand the great risk this provide to consumer i believe this to be safe as  be through  chase bank app i have be with chase for almost   year and trust  mobile banking and now be sadly regretful i be be tell to deal with the merchant except the merchant have refuse to answer  inquiry and now shut down communication the website of the say merchant look entirely legitamite and be even use the face of highly successful brand with individual link to  social medium without  consent in perform research of the phone number and other associate information available through pi  be very clear this merchant be continually create new account title holder to perpetuate this cycle of fraud furthermore as this be a non fixed voip be use i believe  be fraudulently use the identity of the real   chase bank tell   would not even investigate report this to  or allow  to file a report or take any potential recourse for the matter there be not even a protocol in place to address this issue yet the chase mobile app verbiage make a point to deceptively position this app as under the branch of chase banking service and as such imply a degree of entitlement to  customer service protection protocol chase have  back which read on the very same link as the  tab   be most certainly not true this place consumer at risk when use this mobile service and do not flag the concern of chase in the slight at minimum the risk of use  on  mobile banking app must realistically be make aware to the public as  stand to be potentially devastating i have plan to file report with all correspond authority as well as notify and contact the individual whose identity be be misuse to inform  i also intend to urge  neighbor who work in television that the news network should perhaps present the risk of use  and  integrate banking app to the public i understand fraud and scamming be overwhelm rampant but a banking mogul such as chase not have any recourse of action be simply a risk that need to be disclose more throughly i would not have click on the to link to the extent i do if i would have be better inform\n",
              "78311                                                                                                                                                                                                                                                                                                 i have had flawless credit for  yrs ive had chase credit cards  chase freedom  specifically since xxxx with no problems ever ive done many balance transfers in my life so i have plenty of experience i recently did a balance transfer with chase freedom for   did many with other chase cards but apparently not  freeedom   when i got my first bill my minimum payment was  i was shocked i immediately called on xxxxxxxx the representative told me that the min payment was so high bc they were making me pay the  balance transfer fee  up front but my future payments would be around    of total balance  which is standard and the rate they advertise  i went to pay the next payment on xxxxxxxx  was once again shocked to see my minimum payment was  i paid it but i have been trying to work this out with chase ever since apparently the representative was wrong  i am actually expected to pay   instead of the standard   they normally charge bc that was written in my  user agreement  paperwork back in xxxxxxxx  years ago they currently charge   to everyone else in the world my other cards including chase are all   this  is an unreasonable amt to expect someone to pay for  credit card i have kids  many other bills to pay they never warned me they were so  off the charts  with their minimum payment percentage  except for my original paperwork in xxxxxxxx  they offer everyone else   terms they change their  terms  anytime it benefits them but wont budge to lower it to make this payment more affordable  reasonable so i also asked them  as soon as i found this out  to refund my  transfer fee so i could use it to transfer the balance to a different card with a more reasonable minimum payment they refused i also asked if they would transfer to my chase slate card which has   min pmt they also refused they will not work with me at all i am a responsible working person i would like to preserve my good credit i could easily transfer again to a different card but id have to pay another lump sum of  again  ...                                                                                                                                                                                                                                                                                        i have have flawless credit for   yrs  have have chase credit card   chase freedom   specifically since  with no problem ever  have do many balance transfer in  life so i have plenty of experience i recently do a balance transfer with chase freedom for    do many with other chase card but apparently not   freeedom    when i get  first bill  minimum payment be   i be shock i immediately call on  the representative tell  that the min payment be so high bc  be make  pay the   balance transfer fee   up front but  future payment would be around     of total balance   which be standard and the rate  advertise   i go to pay the next payment on    be once again shock to see  minimum payment be   i pay  but i have be try to work this out with chase ever since apparently the representative be wrong   i be actually expect to pay    instead of the standard     normally charge bc that be write in    user agreement   paperwork back in    year ago  currently charge    to everyone else in the world  other card include chase be all    this   be an unreasonable amt to expect someone to pay for   credit card i have kid   many other bill to pay  never warn   be so   off the chart   with  minimum payment percentage   except for  original paperwork in     offer everyone else    term  change    term   anytime  benefit  but will not budge to lower  to make this payment more affordable   reasonable so i also ask    as soon as i find this out   to refund    transfer fee so i could use  to transfer the balance to a different card with a more reasonable minimum payment  refuse i also ask if  would transfer to  chase slate card which have    min pmt  also refuse  will not work with  at all i be a responsible work person i would like to preserve  good credit i could easily transfer again to a different card but  would have to pay another lump sum of   again\n",
              "78312                                                                                                                                                                                                                                                                                                                                                                                                                                                                                                                                                                                                                                                                                                                                                                                                                                                                                                                                                                                                                                                                                                                                                                                                                                                                                                                                                                                                                                                                                                                                                                                                    roughly  years ago i closed out my accounts with jp morgan chase bank xxxx in order to close out an unsecured line of credit i had to pay it off i did that to close out my account roughly  payment when i closed out the accounts and now i get this late payment that showed up on my credit report after  years stating i owe close to  dollars i have never had any payment schedules or notifications in the  years because i paid it off upon calling them i am told i need to show proof i paid it off i would like to think that if indeed i had not paid it off  which i did  i would have immediately received late payment notifications i left chase bank because of some poor customer service and charges that were way out of line with the other banking institutions  ...                                                                                                                                                                                                                                                                                                                                                                                                                                                                                                                                                                                                                                                                                                                                                                                                                                                                                                                                                                                                                                                                                                                                                                                                                                                                                                                                                                                                                                                                            roughly   year ago i close out  account with jp morgan chase bank  in order to close out an unsecured line of credit i have to pay  off i do that to close out  account roughly   payment when i close out the account and now i get this late payment that show up on  credit report after   year state i owe close to   dollar i have never have any payment schedule or notification in the   year because i pay  off upon call  i be tell i need to show proof i pay  off i would like to think that if indeed i have not pay  off   which i do   i would have immediately receive late payment notification i leave chase bank because of some poor customer service and charge that be way out of line with the other banking institution\n",
              "\n",
              "[21072 rows x 4 columns]"
            ]
          },
          "metadata": {},
          "execution_count": 50
        }
      ]
    },
    {
      "cell_type": "markdown",
      "metadata": {
        "id": "k-I0k0QtJrGA"
      },
      "source": [
        "## Feature Extraction\n",
        "Convert the raw texts to a matrix of TF-IDF features\n",
        "\n",
        "**max_df** is used for removing terms that appear too frequently, also known as \"corpus-specific stop words\"\n",
        "max_df = 0.95 means \"ignore terms that appear in more than 95% of the complaints\"\n",
        "\n",
        "**min_df** is used for removing terms that appear too infrequently\n",
        "min_df = 2 means \"ignore terms that appear in less than 2 complaints\""
      ]
    },
    {
      "cell_type": "code",
      "metadata": {
        "id": "Y8fGwaCPJrGA"
      },
      "source": [
        "#Write your code here to initialise the TfidfVectorizer \n",
        "tfidf = TfidfVectorizer(stop_words='english')\n",
        "\n"
      ],
      "execution_count": 67,
      "outputs": []
    },
    {
      "cell_type": "markdown",
      "metadata": {
        "id": "yYzD85nTJrGA"
      },
      "source": [
        "#### Create a document term matrix using fit_transform\n",
        "\n",
        "The contents of a document term matrix are tuples of (complaint_id,token_id) tf-idf score:\n",
        "The tuples that are not there have a tf-idf score of 0"
      ]
    },
    {
      "cell_type": "code",
      "metadata": {
        "id": "ffzdDpp_JrGB"
      },
      "source": [
        "#Write your code here to create the Document Term Matrix by transforming the complaints column present in df_clean.\n",
        "dtm = tfidf.fit_transform(df_clean.Complaint_clean)"
      ],
      "execution_count": 68,
      "outputs": []
    },
    {
      "cell_type": "markdown",
      "metadata": {
        "id": "7Q9lwvNEJrGB"
      },
      "source": [
        "## Topic Modelling using NMF\n",
        "\n",
        "Non-Negative Matrix Factorization (NMF) is an unsupervised technique so there are no labeling of topics that the model will be trained on. The way it works is that, NMF decomposes (or factorizes) high-dimensional vectors into a lower-dimensional representation. These lower-dimensional vectors are non-negative which also means their coefficients are non-negative.\n",
        "\n",
        "In this task you have to perform the following:\n",
        "\n",
        "* Find the best number of clusters \n",
        "* Apply the best number to create word clusters\n",
        "* Inspect & validate the correction of each cluster wrt the complaints \n",
        "* Correct the labels if needed \n",
        "* Map the clusters to topics/cluster names"
      ]
    },
    {
      "cell_type": "code",
      "metadata": {
        "id": "amLT4omWJrGB"
      },
      "source": [
        "from sklearn.decomposition import NMF"
      ],
      "execution_count": 53,
      "outputs": []
    },
    {
      "cell_type": "markdown",
      "metadata": {
        "id": "0wYR1xUTJrGD"
      },
      "source": [
        "## Manual Topic Modeling\n",
        "You need to do take the trial & error approach to find the best num of topics for your NMF model.\n",
        "\n",
        "The only parameter that is required is the number of components i.e. the number of topics we want. This is the most crucial step in the whole topic modeling process and will greatly affect how good your final topics are."
      ]
    },
    {
      "cell_type": "code",
      "metadata": {
        "id": "sgd2A6bhJrGD"
      },
      "source": [
        "#Load your nmf_model with the n_components i.e 5\n",
        "num_topics = 5\n",
        "\n",
        "#keep the random_state =40\n",
        "nmf_model = NMF(n_components=num_topics, random_state=40)"
      ],
      "execution_count": 69,
      "outputs": []
    },
    {
      "cell_type": "code",
      "metadata": {
        "id": "VPMDYbt_JrGE",
        "colab": {
          "base_uri": "https://localhost:8080/"
        },
        "outputId": "1d8bc555-c628-4b64-9a3c-cac715869e5c"
      },
      "source": [
        "nmf_model.fit(dtm)\n",
        "len(tfidf.get_feature_names())"
      ],
      "execution_count": 70,
      "outputs": [
        {
          "output_type": "execute_result",
          "data": {
            "text/plain": [
              "27065"
            ]
          },
          "metadata": {},
          "execution_count": 70
        }
      ]
    },
    {
      "cell_type": "code",
      "metadata": {
        "id": "16kRfat5JrGE"
      },
      "source": [
        "#Print the Top15 words for each of the topics\n"
      ],
      "execution_count": null,
      "outputs": []
    },
    {
      "cell_type": "code",
      "metadata": {
        "id": "0OIT7LmFJrGF"
      },
      "source": [
        "#Create the best topic for each complaint in terms of integer value 0,1,2,3 & 4\n",
        "\n"
      ],
      "execution_count": null,
      "outputs": []
    },
    {
      "cell_type": "code",
      "metadata": {
        "id": "peyYv-ORJrGF"
      },
      "source": [
        "#Assign the best topic to each of the cmplaints in Topic Column\n",
        "\n",
        "df_clean['Topic'] = #write your code to assign topics to each rows."
      ],
      "execution_count": null,
      "outputs": []
    },
    {
      "cell_type": "code",
      "metadata": {
        "id": "fLh_Gf3nJrGF"
      },
      "source": [
        "df_clean.head()"
      ],
      "execution_count": null,
      "outputs": []
    },
    {
      "cell_type": "code",
      "metadata": {
        "id": "aQKpufSPJrGG"
      },
      "source": [
        "#Print the first 5 Complaint for each of the Topics\n",
        "df_clean=df_clean.groupby('Topic').head(5)\n",
        "df_clean.sort_values('Topic')"
      ],
      "execution_count": null,
      "outputs": []
    },
    {
      "cell_type": "markdown",
      "metadata": {
        "id": "piyLxzj6v07j"
      },
      "source": [
        "#### After evaluating the mapping, if the topics assigned are correct then assign these names to the relevant topic:\n",
        "* Bank Account services\n",
        "* Credit card or prepaid card\n",
        "* Theft/Dispute Reporting\n",
        "* Mortgage/Loan\n",
        "* Others"
      ]
    },
    {
      "cell_type": "code",
      "metadata": {
        "id": "TWpwDG4RJrGG"
      },
      "source": [
        "#Create the dictionary of Topic names and Topics\n",
        "\n",
        "Topic_names = {   }\n",
        "#Replace Topics with Topic Names\n",
        "df_clean['Topic'] = df_clean['Topic'].map(Topic_names)"
      ],
      "execution_count": null,
      "outputs": []
    },
    {
      "cell_type": "code",
      "metadata": {
        "id": "-2ULY5K6JrGG"
      },
      "source": [
        "df_clean"
      ],
      "execution_count": null,
      "outputs": []
    },
    {
      "cell_type": "markdown",
      "metadata": {
        "id": "7Mu0QBOcJrGH"
      },
      "source": [
        "## Supervised model to predict any new complaints to the relevant Topics.\n",
        "\n",
        "You have now build the model to create the topics for each complaints.Now in the below section you will use them to classify any new complaints.\n",
        "\n",
        "Since you will be using supervised learning technique we have to convert the topic names to numbers(numpy arrays only understand numbers)"
      ]
    },
    {
      "cell_type": "code",
      "metadata": {
        "id": "_U8J3J8wJrGH"
      },
      "source": [
        "#Create the dictionary again of Topic names and Topics\n",
        "\n",
        "Topic_names = {   }\n",
        "#Replace Topics with Topic Names\n",
        "df_clean['Topic'] = df_clean['Topic'].map(Topic_names)"
      ],
      "execution_count": null,
      "outputs": []
    },
    {
      "cell_type": "code",
      "metadata": {
        "id": "BWIgJUkQJrGH"
      },
      "source": [
        "df_clean"
      ],
      "execution_count": null,
      "outputs": []
    },
    {
      "cell_type": "code",
      "metadata": {
        "id": "Xx-FrbkWJrGH"
      },
      "source": [
        "#Keep the columns\"complaint_what_happened\" & \"Topic\" only in the new dataframe --> training_data\n",
        "training_data="
      ],
      "execution_count": null,
      "outputs": []
    },
    {
      "cell_type": "code",
      "metadata": {
        "id": "lVg2pa12JrGI"
      },
      "source": [
        "training_data"
      ],
      "execution_count": null,
      "outputs": []
    },
    {
      "cell_type": "markdown",
      "metadata": {
        "id": "280Vbqk-7a8M"
      },
      "source": [
        "####Apply the supervised models on the training data created. In this process, you have to do the following:\n",
        "* Create the vector counts using Count Vectoriser\n",
        "* Transform the word vecotr to tf-idf\n",
        "* Create the train & test data using the train_test_split on the tf-idf & topics\n"
      ]
    },
    {
      "cell_type": "code",
      "metadata": {
        "id": "oUlQpgkzJrGI"
      },
      "source": [
        "\n",
        "#Write your code to get the Vector count\n",
        "\n",
        "\n",
        "#Write your code here to transform the word vector to tf-idf"
      ],
      "execution_count": null,
      "outputs": []
    },
    {
      "cell_type": "markdown",
      "metadata": {
        "id": "uMU3vj6w-wqL"
      },
      "source": [
        "You have to try atleast 2 models on the train & test data from these options:\n",
        "* Logistic regression\n",
        "* Decision Tree\n",
        "* Random Forest\n",
        "* Naive Bayes (optional)\n",
        "\n",
        "**Using the required evaluation metrics judge the tried models and select the ones performing the best**"
      ]
    },
    {
      "cell_type": "code",
      "metadata": {
        "id": "udLHpPsZJrGI"
      },
      "source": [
        "# Write your code here to build any 3 models and evaluate them using the required metrics\n",
        "\n",
        "\n",
        "\n"
      ],
      "execution_count": null,
      "outputs": []
    },
    {
      "cell_type": "code",
      "metadata": {
        "id": "N2OznsObJrGP"
      },
      "source": [
        ""
      ],
      "execution_count": null,
      "outputs": []
    }
  ]
}